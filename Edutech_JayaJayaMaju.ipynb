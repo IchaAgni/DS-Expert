{
  "cells": [
    {
      "cell_type": "markdown",
      "metadata": {
        "id": "ewKJgfeO17d8"
      },
      "source": [
        "# Proyek Akhir: Menyelesaikan Permasalahan Perusahaan Edutech"
      ]
    },
    {
      "cell_type": "markdown",
      "metadata": {
        "id": "3Syo9uJg17eO"
      },
      "source": [
        "- Nama: Nisa Agni Afifah\n",
        "- Email: agniafifah21@gmail.com\n",
        "- Id Dicoding: ichaa_agni"
      ]
    },
    {
      "cell_type": "markdown",
      "metadata": {
        "id": "frKGwHue17eQ"
      },
      "source": [
        "## Persiapan"
      ]
    },
    {
      "cell_type": "markdown",
      "metadata": {
        "id": "nNsi30yH17eR"
      },
      "source": [
        "### Menyiapkan library yang dibutuhkan"
      ]
    },
    {
      "cell_type": "code",
      "execution_count": 9,
      "metadata": {
        "id": "GGpfV7_n17eS"
      },
      "outputs": [],
      "source": [
        "import pandas as pd              # Mengimpor pustaka pandas dan memberi alias 'pd' untuk manipulasi data\n",
        "import numpy as np               # Mengimpor pustaka numpy sebagai 'np' untuk operasi numerik\n",
        "import seaborn as sns            # Mengimpor pustaka seaborn sebagai 'sns' untuk membuat grafik statistik yang lebih menarik\n",
        "import matplotlib.pyplot as plt  # Mengimpor modul pyplot dari matplotlib untuk visualisasi data"
      ]
    },
    {
      "cell_type": "code",
      "execution_count": 10,
      "metadata": {
        "id": "rroWc0Z2DgJI"
      },
      "outputs": [],
      "source": [
        "from sklearn.preprocessing import StandardScaler\n",
        "from sklearn.model_selection import train_test_split\n",
        "from sklearn.preprocessing import LabelEncoder\n",
        "from sklearn.neighbors import KNeighborsClassifier\n",
        "from sklearn.svm import SVC\n",
        "from sklearn.linear_model import LogisticRegression\n",
        "from sklearn.naive_bayes import GaussianNB\n",
        "from sklearn.tree import DecisionTreeClassifier\n",
        "from sklearn.ensemble import RandomForestClassifier\n",
        "from sklearn.ensemble import GradientBoostingClassifier\n",
        "from sklearn.neural_network import MLPClassifier\n",
        "from sklearn.metrics import (\n",
        "    accuracy_score,               # Akurasi\n",
        "    confusion_matrix,             # Matriks kebingungan\n",
        "    precision_score,              # Presisi\n",
        "    recall_score,                 # Recall\n",
        "    roc_curve,                    # Kurva ROC\n",
        "    roc_auc_score,                # Nilai AUC\n",
        "    classification_report,        # Laporan klasifikasi lengkap\n",
        "    f1_score                      # F1 Score\n",
        ")\n",
        "from sklearn.model_selection import cross_val_score          # Validasi silang\n",
        "from sklearn.model_selection import GridSearchCV             # Pencarian grid untuk optimasi parameter\n",
        "\n",
        "# Mengimpor pustaka joblib untuk menyimpan dan memuat model\n",
        "import joblib\n"
      ]
    },
    {
      "cell_type": "markdown",
      "metadata": {
        "id": "AqStVfhs17eU"
      },
      "source": [
        "### Menyiapkan data yang akan diguankan"
      ]
    },
    {
      "cell_type": "code",
      "execution_count": 11,
      "metadata": {
        "id": "h6h4lhojEj1Y"
      },
      "outputs": [],
      "source": [
        "# Membaca file CSV 'employee_data.csv' dari direktori '/content'\n",
        "# Menggunakan encoding 'windows-1252' untuk memastikan karakter khusus dapat dibaca dengan benar\n",
        "data_karyawan = pd.read_csv(\"employee_data.csv\", encoding='windows-1252')\n"
      ]
    },
    {
      "cell_type": "markdown",
      "metadata": {
        "id": "oIxXDXNZ17eh"
      },
      "source": [
        "## Data Understanding"
      ]
    },
    {
      "cell_type": "code",
      "execution_count": 12,
      "metadata": {
        "colab": {
          "base_uri": "https://localhost:8080/",
          "height": 325
        },
        "id": "DLpRcMVy17eh",
        "outputId": "4e23453e-b148-4172-acf4-01176ec2c4f7"
      },
      "outputs": [
        {
          "data": {
            "text/html": [
              "<div>\n",
              "<style scoped>\n",
              "    .dataframe tbody tr th:only-of-type {\n",
              "        vertical-align: middle;\n",
              "    }\n",
              "\n",
              "    .dataframe tbody tr th {\n",
              "        vertical-align: top;\n",
              "    }\n",
              "\n",
              "    .dataframe thead th {\n",
              "        text-align: right;\n",
              "    }\n",
              "</style>\n",
              "<table border=\"1\" class=\"dataframe\">\n",
              "  <thead>\n",
              "    <tr style=\"text-align: right;\">\n",
              "      <th></th>\n",
              "      <th>EmployeeId</th>\n",
              "      <th>Age</th>\n",
              "      <th>Attrition</th>\n",
              "      <th>BusinessTravel</th>\n",
              "      <th>DailyRate</th>\n",
              "      <th>Department</th>\n",
              "      <th>DistanceFromHome</th>\n",
              "      <th>Education</th>\n",
              "      <th>EducationField</th>\n",
              "      <th>EmployeeCount</th>\n",
              "      <th>...</th>\n",
              "      <th>RelationshipSatisfaction</th>\n",
              "      <th>StandardHours</th>\n",
              "      <th>StockOptionLevel</th>\n",
              "      <th>TotalWorkingYears</th>\n",
              "      <th>TrainingTimesLastYear</th>\n",
              "      <th>WorkLifeBalance</th>\n",
              "      <th>YearsAtCompany</th>\n",
              "      <th>YearsInCurrentRole</th>\n",
              "      <th>YearsSinceLastPromotion</th>\n",
              "      <th>YearsWithCurrManager</th>\n",
              "    </tr>\n",
              "  </thead>\n",
              "  <tbody>\n",
              "    <tr>\n",
              "      <th>0</th>\n",
              "      <td>1</td>\n",
              "      <td>38</td>\n",
              "      <td>NaN</td>\n",
              "      <td>Travel_Frequently</td>\n",
              "      <td>1444</td>\n",
              "      <td>Human Resources</td>\n",
              "      <td>1</td>\n",
              "      <td>4</td>\n",
              "      <td>Other</td>\n",
              "      <td>1</td>\n",
              "      <td>...</td>\n",
              "      <td>2</td>\n",
              "      <td>80</td>\n",
              "      <td>1</td>\n",
              "      <td>7</td>\n",
              "      <td>2</td>\n",
              "      <td>3</td>\n",
              "      <td>6</td>\n",
              "      <td>2</td>\n",
              "      <td>1</td>\n",
              "      <td>2</td>\n",
              "    </tr>\n",
              "    <tr>\n",
              "      <th>1</th>\n",
              "      <td>2</td>\n",
              "      <td>37</td>\n",
              "      <td>1.0</td>\n",
              "      <td>Travel_Rarely</td>\n",
              "      <td>1141</td>\n",
              "      <td>Research &amp; Development</td>\n",
              "      <td>11</td>\n",
              "      <td>2</td>\n",
              "      <td>Medical</td>\n",
              "      <td>1</td>\n",
              "      <td>...</td>\n",
              "      <td>1</td>\n",
              "      <td>80</td>\n",
              "      <td>0</td>\n",
              "      <td>15</td>\n",
              "      <td>2</td>\n",
              "      <td>1</td>\n",
              "      <td>1</td>\n",
              "      <td>0</td>\n",
              "      <td>0</td>\n",
              "      <td>0</td>\n",
              "    </tr>\n",
              "    <tr>\n",
              "      <th>2</th>\n",
              "      <td>3</td>\n",
              "      <td>51</td>\n",
              "      <td>1.0</td>\n",
              "      <td>Travel_Rarely</td>\n",
              "      <td>1323</td>\n",
              "      <td>Research &amp; Development</td>\n",
              "      <td>4</td>\n",
              "      <td>4</td>\n",
              "      <td>Life Sciences</td>\n",
              "      <td>1</td>\n",
              "      <td>...</td>\n",
              "      <td>3</td>\n",
              "      <td>80</td>\n",
              "      <td>3</td>\n",
              "      <td>18</td>\n",
              "      <td>2</td>\n",
              "      <td>4</td>\n",
              "      <td>10</td>\n",
              "      <td>0</td>\n",
              "      <td>2</td>\n",
              "      <td>7</td>\n",
              "    </tr>\n",
              "    <tr>\n",
              "      <th>3</th>\n",
              "      <td>4</td>\n",
              "      <td>42</td>\n",
              "      <td>0.0</td>\n",
              "      <td>Travel_Frequently</td>\n",
              "      <td>555</td>\n",
              "      <td>Sales</td>\n",
              "      <td>26</td>\n",
              "      <td>3</td>\n",
              "      <td>Marketing</td>\n",
              "      <td>1</td>\n",
              "      <td>...</td>\n",
              "      <td>4</td>\n",
              "      <td>80</td>\n",
              "      <td>1</td>\n",
              "      <td>23</td>\n",
              "      <td>2</td>\n",
              "      <td>4</td>\n",
              "      <td>20</td>\n",
              "      <td>4</td>\n",
              "      <td>4</td>\n",
              "      <td>8</td>\n",
              "    </tr>\n",
              "    <tr>\n",
              "      <th>4</th>\n",
              "      <td>5</td>\n",
              "      <td>40</td>\n",
              "      <td>NaN</td>\n",
              "      <td>Travel_Rarely</td>\n",
              "      <td>1194</td>\n",
              "      <td>Research &amp; Development</td>\n",
              "      <td>2</td>\n",
              "      <td>4</td>\n",
              "      <td>Medical</td>\n",
              "      <td>1</td>\n",
              "      <td>...</td>\n",
              "      <td>2</td>\n",
              "      <td>80</td>\n",
              "      <td>3</td>\n",
              "      <td>20</td>\n",
              "      <td>2</td>\n",
              "      <td>3</td>\n",
              "      <td>5</td>\n",
              "      <td>3</td>\n",
              "      <td>0</td>\n",
              "      <td>2</td>\n",
              "    </tr>\n",
              "  </tbody>\n",
              "</table>\n",
              "<p>5 rows × 35 columns</p>\n",
              "</div>"
            ],
            "text/plain": [
              "   EmployeeId  Age  Attrition     BusinessTravel  DailyRate  \\\n",
              "0           1   38        NaN  Travel_Frequently       1444   \n",
              "1           2   37        1.0      Travel_Rarely       1141   \n",
              "2           3   51        1.0      Travel_Rarely       1323   \n",
              "3           4   42        0.0  Travel_Frequently        555   \n",
              "4           5   40        NaN      Travel_Rarely       1194   \n",
              "\n",
              "               Department  DistanceFromHome  Education EducationField  \\\n",
              "0         Human Resources                 1          4          Other   \n",
              "1  Research & Development                11          2        Medical   \n",
              "2  Research & Development                 4          4  Life Sciences   \n",
              "3                   Sales                26          3      Marketing   \n",
              "4  Research & Development                 2          4        Medical   \n",
              "\n",
              "   EmployeeCount  ...  RelationshipSatisfaction StandardHours  \\\n",
              "0              1  ...                         2            80   \n",
              "1              1  ...                         1            80   \n",
              "2              1  ...                         3            80   \n",
              "3              1  ...                         4            80   \n",
              "4              1  ...                         2            80   \n",
              "\n",
              "   StockOptionLevel  TotalWorkingYears  TrainingTimesLastYear WorkLifeBalance  \\\n",
              "0                 1                  7                      2               3   \n",
              "1                 0                 15                      2               1   \n",
              "2                 3                 18                      2               4   \n",
              "3                 1                 23                      2               4   \n",
              "4                 3                 20                      2               3   \n",
              "\n",
              "   YearsAtCompany YearsInCurrentRole  YearsSinceLastPromotion  \\\n",
              "0               6                  2                        1   \n",
              "1               1                  0                        0   \n",
              "2              10                  0                        2   \n",
              "3              20                  4                        4   \n",
              "4               5                  3                        0   \n",
              "\n",
              "   YearsWithCurrManager  \n",
              "0                     2  \n",
              "1                     0  \n",
              "2                     7  \n",
              "3                     8  \n",
              "4                     2  \n",
              "\n",
              "[5 rows x 35 columns]"
            ]
          },
          "execution_count": 12,
          "metadata": {},
          "output_type": "execute_result"
        }
      ],
      "source": [
        "# Menampilkan 5 baris pertama dari DataFrame data_karyawan\n",
        "data_karyawan.head(5)"
      ]
    },
    {
      "cell_type": "code",
      "execution_count": 13,
      "metadata": {
        "colab": {
          "base_uri": "https://localhost:8080/"
        },
        "id": "2dcUOJ1OFIo9",
        "outputId": "9b87c9db-3d6f-4bab-f893-28a764d6ebe1"
      },
      "outputs": [
        {
          "data": {
            "text/plain": [
              "(1470, 35)"
            ]
          },
          "execution_count": 13,
          "metadata": {},
          "output_type": "execute_result"
        }
      ],
      "source": [
        "# Menampilkan dimensi DataFrame data_karyawan (jumlah baris dan kolom)\n",
        "data_karyawan.shape"
      ]
    },
    {
      "cell_type": "code",
      "execution_count": 14,
      "metadata": {
        "colab": {
          "base_uri": "https://localhost:8080/",
          "height": 1000
        },
        "id": "i9o6kCd-FLGx",
        "outputId": "19d65107-fc4a-474c-ba74-aa903ea6bda3"
      },
      "outputs": [
        {
          "data": {
            "text/plain": [
              "EmployeeId                    int64\n",
              "Age                           int64\n",
              "Attrition                   float64\n",
              "BusinessTravel               object\n",
              "DailyRate                     int64\n",
              "Department                   object\n",
              "DistanceFromHome              int64\n",
              "Education                     int64\n",
              "EducationField               object\n",
              "EmployeeCount                 int64\n",
              "EnvironmentSatisfaction       int64\n",
              "Gender                       object\n",
              "HourlyRate                    int64\n",
              "JobInvolvement                int64\n",
              "JobLevel                      int64\n",
              "JobRole                      object\n",
              "JobSatisfaction               int64\n",
              "MaritalStatus                object\n",
              "MonthlyIncome                 int64\n",
              "MonthlyRate                   int64\n",
              "NumCompaniesWorked            int64\n",
              "Over18                       object\n",
              "OverTime                     object\n",
              "PercentSalaryHike             int64\n",
              "PerformanceRating             int64\n",
              "RelationshipSatisfaction      int64\n",
              "StandardHours                 int64\n",
              "StockOptionLevel              int64\n",
              "TotalWorkingYears             int64\n",
              "TrainingTimesLastYear         int64\n",
              "WorkLifeBalance               int64\n",
              "YearsAtCompany                int64\n",
              "YearsInCurrentRole            int64\n",
              "YearsSinceLastPromotion       int64\n",
              "YearsWithCurrManager          int64\n",
              "dtype: object"
            ]
          },
          "execution_count": 14,
          "metadata": {},
          "output_type": "execute_result"
        }
      ],
      "source": [
        "# Menampilkan tipe data dari setiap kolom dalam DataFrame data_karyawan\n",
        "data_karyawan.dtypes"
      ]
    },
    {
      "cell_type": "code",
      "execution_count": 15,
      "metadata": {
        "colab": {
          "base_uri": "https://localhost:8080/",
          "height": 175
        },
        "id": "8Wx3IF3RFicc",
        "outputId": "98c4f8bf-0172-40f3-e190-9ccd537c11d8"
      },
      "outputs": [
        {
          "data": {
            "text/html": [
              "<div>\n",
              "<style scoped>\n",
              "    .dataframe tbody tr th:only-of-type {\n",
              "        vertical-align: middle;\n",
              "    }\n",
              "\n",
              "    .dataframe tbody tr th {\n",
              "        vertical-align: top;\n",
              "    }\n",
              "\n",
              "    .dataframe thead th {\n",
              "        text-align: right;\n",
              "    }\n",
              "</style>\n",
              "<table border=\"1\" class=\"dataframe\">\n",
              "  <thead>\n",
              "    <tr style=\"text-align: right;\">\n",
              "      <th></th>\n",
              "      <th>BusinessTravel</th>\n",
              "      <th>Department</th>\n",
              "      <th>EducationField</th>\n",
              "      <th>Gender</th>\n",
              "      <th>JobRole</th>\n",
              "      <th>MaritalStatus</th>\n",
              "      <th>Over18</th>\n",
              "      <th>OverTime</th>\n",
              "    </tr>\n",
              "  </thead>\n",
              "  <tbody>\n",
              "    <tr>\n",
              "      <th>count</th>\n",
              "      <td>1470</td>\n",
              "      <td>1470</td>\n",
              "      <td>1470</td>\n",
              "      <td>1470</td>\n",
              "      <td>1470</td>\n",
              "      <td>1470</td>\n",
              "      <td>1470</td>\n",
              "      <td>1470</td>\n",
              "    </tr>\n",
              "    <tr>\n",
              "      <th>unique</th>\n",
              "      <td>3</td>\n",
              "      <td>3</td>\n",
              "      <td>6</td>\n",
              "      <td>2</td>\n",
              "      <td>9</td>\n",
              "      <td>3</td>\n",
              "      <td>1</td>\n",
              "      <td>2</td>\n",
              "    </tr>\n",
              "    <tr>\n",
              "      <th>top</th>\n",
              "      <td>Travel_Rarely</td>\n",
              "      <td>Research &amp; Development</td>\n",
              "      <td>Life Sciences</td>\n",
              "      <td>Male</td>\n",
              "      <td>Sales Executive</td>\n",
              "      <td>Married</td>\n",
              "      <td>Y</td>\n",
              "      <td>No</td>\n",
              "    </tr>\n",
              "    <tr>\n",
              "      <th>freq</th>\n",
              "      <td>1043</td>\n",
              "      <td>961</td>\n",
              "      <td>606</td>\n",
              "      <td>882</td>\n",
              "      <td>326</td>\n",
              "      <td>673</td>\n",
              "      <td>1470</td>\n",
              "      <td>1054</td>\n",
              "    </tr>\n",
              "  </tbody>\n",
              "</table>\n",
              "</div>"
            ],
            "text/plain": [
              "       BusinessTravel              Department EducationField Gender  \\\n",
              "count            1470                    1470           1470   1470   \n",
              "unique              3                       3              6      2   \n",
              "top     Travel_Rarely  Research & Development  Life Sciences   Male   \n",
              "freq             1043                     961            606    882   \n",
              "\n",
              "                JobRole MaritalStatus Over18 OverTime  \n",
              "count              1470          1470   1470     1470  \n",
              "unique                9             3      1        2  \n",
              "top     Sales Executive       Married      Y       No  \n",
              "freq                326           673   1470     1054  "
            ]
          },
          "execution_count": 15,
          "metadata": {},
          "output_type": "execute_result"
        }
      ],
      "source": [
        "# Menampilkan statistik deskriptif untuk kolom bertipe objek (biasanya teks) dalam DataFrame data_karyawan\n",
        "data_karyawan.describe(include='object')"
      ]
    },
    {
      "cell_type": "code",
      "execution_count": 16,
      "metadata": {
        "colab": {
          "base_uri": "https://localhost:8080/",
          "height": 350
        },
        "id": "Il4pQlFpFllE",
        "outputId": "4baa9897-85a5-4c9b-d752-ff7aba6b6a4d"
      },
      "outputs": [
        {
          "data": {
            "text/html": [
              "<div>\n",
              "<style scoped>\n",
              "    .dataframe tbody tr th:only-of-type {\n",
              "        vertical-align: middle;\n",
              "    }\n",
              "\n",
              "    .dataframe tbody tr th {\n",
              "        vertical-align: top;\n",
              "    }\n",
              "\n",
              "    .dataframe thead th {\n",
              "        text-align: right;\n",
              "    }\n",
              "</style>\n",
              "<table border=\"1\" class=\"dataframe\">\n",
              "  <thead>\n",
              "    <tr style=\"text-align: right;\">\n",
              "      <th></th>\n",
              "      <th>EmployeeId</th>\n",
              "      <th>Age</th>\n",
              "      <th>Attrition</th>\n",
              "      <th>DailyRate</th>\n",
              "      <th>DistanceFromHome</th>\n",
              "      <th>Education</th>\n",
              "      <th>EmployeeCount</th>\n",
              "      <th>EnvironmentSatisfaction</th>\n",
              "      <th>HourlyRate</th>\n",
              "      <th>JobInvolvement</th>\n",
              "      <th>...</th>\n",
              "      <th>RelationshipSatisfaction</th>\n",
              "      <th>StandardHours</th>\n",
              "      <th>StockOptionLevel</th>\n",
              "      <th>TotalWorkingYears</th>\n",
              "      <th>TrainingTimesLastYear</th>\n",
              "      <th>WorkLifeBalance</th>\n",
              "      <th>YearsAtCompany</th>\n",
              "      <th>YearsInCurrentRole</th>\n",
              "      <th>YearsSinceLastPromotion</th>\n",
              "      <th>YearsWithCurrManager</th>\n",
              "    </tr>\n",
              "  </thead>\n",
              "  <tbody>\n",
              "    <tr>\n",
              "      <th>count</th>\n",
              "      <td>1470.000000</td>\n",
              "      <td>1470.000000</td>\n",
              "      <td>1058.000000</td>\n",
              "      <td>1470.000000</td>\n",
              "      <td>1470.000000</td>\n",
              "      <td>1470.000000</td>\n",
              "      <td>1470.0</td>\n",
              "      <td>1470.000000</td>\n",
              "      <td>1470.000000</td>\n",
              "      <td>1470.000000</td>\n",
              "      <td>...</td>\n",
              "      <td>1470.000000</td>\n",
              "      <td>1470.0</td>\n",
              "      <td>1470.000000</td>\n",
              "      <td>1470.000000</td>\n",
              "      <td>1470.000000</td>\n",
              "      <td>1470.000000</td>\n",
              "      <td>1470.000000</td>\n",
              "      <td>1470.000000</td>\n",
              "      <td>1470.000000</td>\n",
              "      <td>1470.000000</td>\n",
              "    </tr>\n",
              "    <tr>\n",
              "      <th>mean</th>\n",
              "      <td>735.500000</td>\n",
              "      <td>36.923810</td>\n",
              "      <td>0.169187</td>\n",
              "      <td>802.485714</td>\n",
              "      <td>9.192517</td>\n",
              "      <td>2.912925</td>\n",
              "      <td>1.0</td>\n",
              "      <td>2.721769</td>\n",
              "      <td>65.891156</td>\n",
              "      <td>2.729932</td>\n",
              "      <td>...</td>\n",
              "      <td>2.712245</td>\n",
              "      <td>80.0</td>\n",
              "      <td>0.793878</td>\n",
              "      <td>11.279592</td>\n",
              "      <td>2.799320</td>\n",
              "      <td>2.761224</td>\n",
              "      <td>7.008163</td>\n",
              "      <td>4.229252</td>\n",
              "      <td>2.187755</td>\n",
              "      <td>4.123129</td>\n",
              "    </tr>\n",
              "    <tr>\n",
              "      <th>std</th>\n",
              "      <td>424.496761</td>\n",
              "      <td>9.135373</td>\n",
              "      <td>0.375094</td>\n",
              "      <td>403.509100</td>\n",
              "      <td>8.106864</td>\n",
              "      <td>1.024165</td>\n",
              "      <td>0.0</td>\n",
              "      <td>1.093082</td>\n",
              "      <td>20.329428</td>\n",
              "      <td>0.711561</td>\n",
              "      <td>...</td>\n",
              "      <td>1.081209</td>\n",
              "      <td>0.0</td>\n",
              "      <td>0.852077</td>\n",
              "      <td>7.780782</td>\n",
              "      <td>1.289271</td>\n",
              "      <td>0.706476</td>\n",
              "      <td>6.126525</td>\n",
              "      <td>3.623137</td>\n",
              "      <td>3.222430</td>\n",
              "      <td>3.568136</td>\n",
              "    </tr>\n",
              "    <tr>\n",
              "      <th>min</th>\n",
              "      <td>1.000000</td>\n",
              "      <td>18.000000</td>\n",
              "      <td>0.000000</td>\n",
              "      <td>102.000000</td>\n",
              "      <td>1.000000</td>\n",
              "      <td>1.000000</td>\n",
              "      <td>1.0</td>\n",
              "      <td>1.000000</td>\n",
              "      <td>30.000000</td>\n",
              "      <td>1.000000</td>\n",
              "      <td>...</td>\n",
              "      <td>1.000000</td>\n",
              "      <td>80.0</td>\n",
              "      <td>0.000000</td>\n",
              "      <td>0.000000</td>\n",
              "      <td>0.000000</td>\n",
              "      <td>1.000000</td>\n",
              "      <td>0.000000</td>\n",
              "      <td>0.000000</td>\n",
              "      <td>0.000000</td>\n",
              "      <td>0.000000</td>\n",
              "    </tr>\n",
              "    <tr>\n",
              "      <th>25%</th>\n",
              "      <td>368.250000</td>\n",
              "      <td>30.000000</td>\n",
              "      <td>0.000000</td>\n",
              "      <td>465.000000</td>\n",
              "      <td>2.000000</td>\n",
              "      <td>2.000000</td>\n",
              "      <td>1.0</td>\n",
              "      <td>2.000000</td>\n",
              "      <td>48.000000</td>\n",
              "      <td>2.000000</td>\n",
              "      <td>...</td>\n",
              "      <td>2.000000</td>\n",
              "      <td>80.0</td>\n",
              "      <td>0.000000</td>\n",
              "      <td>6.000000</td>\n",
              "      <td>2.000000</td>\n",
              "      <td>2.000000</td>\n",
              "      <td>3.000000</td>\n",
              "      <td>2.000000</td>\n",
              "      <td>0.000000</td>\n",
              "      <td>2.000000</td>\n",
              "    </tr>\n",
              "    <tr>\n",
              "      <th>50%</th>\n",
              "      <td>735.500000</td>\n",
              "      <td>36.000000</td>\n",
              "      <td>0.000000</td>\n",
              "      <td>802.000000</td>\n",
              "      <td>7.000000</td>\n",
              "      <td>3.000000</td>\n",
              "      <td>1.0</td>\n",
              "      <td>3.000000</td>\n",
              "      <td>66.000000</td>\n",
              "      <td>3.000000</td>\n",
              "      <td>...</td>\n",
              "      <td>3.000000</td>\n",
              "      <td>80.0</td>\n",
              "      <td>1.000000</td>\n",
              "      <td>10.000000</td>\n",
              "      <td>3.000000</td>\n",
              "      <td>3.000000</td>\n",
              "      <td>5.000000</td>\n",
              "      <td>3.000000</td>\n",
              "      <td>1.000000</td>\n",
              "      <td>3.000000</td>\n",
              "    </tr>\n",
              "    <tr>\n",
              "      <th>75%</th>\n",
              "      <td>1102.750000</td>\n",
              "      <td>43.000000</td>\n",
              "      <td>0.000000</td>\n",
              "      <td>1157.000000</td>\n",
              "      <td>14.000000</td>\n",
              "      <td>4.000000</td>\n",
              "      <td>1.0</td>\n",
              "      <td>4.000000</td>\n",
              "      <td>83.750000</td>\n",
              "      <td>3.000000</td>\n",
              "      <td>...</td>\n",
              "      <td>4.000000</td>\n",
              "      <td>80.0</td>\n",
              "      <td>1.000000</td>\n",
              "      <td>15.000000</td>\n",
              "      <td>3.000000</td>\n",
              "      <td>3.000000</td>\n",
              "      <td>9.000000</td>\n",
              "      <td>7.000000</td>\n",
              "      <td>3.000000</td>\n",
              "      <td>7.000000</td>\n",
              "    </tr>\n",
              "    <tr>\n",
              "      <th>max</th>\n",
              "      <td>1470.000000</td>\n",
              "      <td>60.000000</td>\n",
              "      <td>1.000000</td>\n",
              "      <td>1499.000000</td>\n",
              "      <td>29.000000</td>\n",
              "      <td>5.000000</td>\n",
              "      <td>1.0</td>\n",
              "      <td>4.000000</td>\n",
              "      <td>100.000000</td>\n",
              "      <td>4.000000</td>\n",
              "      <td>...</td>\n",
              "      <td>4.000000</td>\n",
              "      <td>80.0</td>\n",
              "      <td>3.000000</td>\n",
              "      <td>40.000000</td>\n",
              "      <td>6.000000</td>\n",
              "      <td>4.000000</td>\n",
              "      <td>40.000000</td>\n",
              "      <td>18.000000</td>\n",
              "      <td>15.000000</td>\n",
              "      <td>17.000000</td>\n",
              "    </tr>\n",
              "  </tbody>\n",
              "</table>\n",
              "<p>8 rows × 27 columns</p>\n",
              "</div>"
            ],
            "text/plain": [
              "        EmployeeId          Age    Attrition    DailyRate  DistanceFromHome  \\\n",
              "count  1470.000000  1470.000000  1058.000000  1470.000000       1470.000000   \n",
              "mean    735.500000    36.923810     0.169187   802.485714          9.192517   \n",
              "std     424.496761     9.135373     0.375094   403.509100          8.106864   \n",
              "min       1.000000    18.000000     0.000000   102.000000          1.000000   \n",
              "25%     368.250000    30.000000     0.000000   465.000000          2.000000   \n",
              "50%     735.500000    36.000000     0.000000   802.000000          7.000000   \n",
              "75%    1102.750000    43.000000     0.000000  1157.000000         14.000000   \n",
              "max    1470.000000    60.000000     1.000000  1499.000000         29.000000   \n",
              "\n",
              "         Education  EmployeeCount  EnvironmentSatisfaction   HourlyRate  \\\n",
              "count  1470.000000         1470.0              1470.000000  1470.000000   \n",
              "mean      2.912925            1.0                 2.721769    65.891156   \n",
              "std       1.024165            0.0                 1.093082    20.329428   \n",
              "min       1.000000            1.0                 1.000000    30.000000   \n",
              "25%       2.000000            1.0                 2.000000    48.000000   \n",
              "50%       3.000000            1.0                 3.000000    66.000000   \n",
              "75%       4.000000            1.0                 4.000000    83.750000   \n",
              "max       5.000000            1.0                 4.000000   100.000000   \n",
              "\n",
              "       JobInvolvement  ...  RelationshipSatisfaction  StandardHours  \\\n",
              "count     1470.000000  ...               1470.000000         1470.0   \n",
              "mean         2.729932  ...                  2.712245           80.0   \n",
              "std          0.711561  ...                  1.081209            0.0   \n",
              "min          1.000000  ...                  1.000000           80.0   \n",
              "25%          2.000000  ...                  2.000000           80.0   \n",
              "50%          3.000000  ...                  3.000000           80.0   \n",
              "75%          3.000000  ...                  4.000000           80.0   \n",
              "max          4.000000  ...                  4.000000           80.0   \n",
              "\n",
              "       StockOptionLevel  TotalWorkingYears  TrainingTimesLastYear  \\\n",
              "count       1470.000000        1470.000000            1470.000000   \n",
              "mean           0.793878          11.279592               2.799320   \n",
              "std            0.852077           7.780782               1.289271   \n",
              "min            0.000000           0.000000               0.000000   \n",
              "25%            0.000000           6.000000               2.000000   \n",
              "50%            1.000000          10.000000               3.000000   \n",
              "75%            1.000000          15.000000               3.000000   \n",
              "max            3.000000          40.000000               6.000000   \n",
              "\n",
              "       WorkLifeBalance  YearsAtCompany  YearsInCurrentRole  \\\n",
              "count      1470.000000     1470.000000         1470.000000   \n",
              "mean          2.761224        7.008163            4.229252   \n",
              "std           0.706476        6.126525            3.623137   \n",
              "min           1.000000        0.000000            0.000000   \n",
              "25%           2.000000        3.000000            2.000000   \n",
              "50%           3.000000        5.000000            3.000000   \n",
              "75%           3.000000        9.000000            7.000000   \n",
              "max           4.000000       40.000000           18.000000   \n",
              "\n",
              "       YearsSinceLastPromotion  YearsWithCurrManager  \n",
              "count              1470.000000           1470.000000  \n",
              "mean                  2.187755              4.123129  \n",
              "std                   3.222430              3.568136  \n",
              "min                   0.000000              0.000000  \n",
              "25%                   0.000000              2.000000  \n",
              "50%                   1.000000              3.000000  \n",
              "75%                   3.000000              7.000000  \n",
              "max                  15.000000             17.000000  \n",
              "\n",
              "[8 rows x 27 columns]"
            ]
          },
          "execution_count": 16,
          "metadata": {},
          "output_type": "execute_result"
        }
      ],
      "source": [
        "# Menampilkan statistik deskriptif untuk kolom numerik dalam DataFrame data_karyawan\n",
        "data_karyawan.describe()"
      ]
    },
    {
      "cell_type": "code",
      "execution_count": 17,
      "metadata": {
        "colab": {
          "base_uri": "https://localhost:8080/"
        },
        "id": "F7avZ9m0F1x4",
        "outputId": "7f1e31b4-3c7d-4df7-c6e1-a87e03027407"
      },
      "outputs": [
        {
          "data": {
            "text/plain": [
              "0"
            ]
          },
          "execution_count": 17,
          "metadata": {},
          "output_type": "execute_result"
        }
      ],
      "source": [
        "# Menghitung jumlah baris duplikat dalam DataFrame data_karyawan\n",
        "data_karyawan.duplicated().sum()"
      ]
    },
    {
      "cell_type": "code",
      "execution_count": 18,
      "metadata": {
        "colab": {
          "base_uri": "https://localhost:8080/",
          "height": 1000
        },
        "id": "VKQj-EtPHkZP",
        "outputId": "375653a3-2b33-42e9-9638-495b5d068c16"
      },
      "outputs": [
        {
          "data": {
            "text/plain": [
              "EmployeeId                    0\n",
              "Age                           0\n",
              "Attrition                   412\n",
              "BusinessTravel                0\n",
              "DailyRate                     0\n",
              "Department                    0\n",
              "DistanceFromHome              0\n",
              "Education                     0\n",
              "EducationField                0\n",
              "EmployeeCount                 0\n",
              "EnvironmentSatisfaction       0\n",
              "Gender                        0\n",
              "HourlyRate                    0\n",
              "JobInvolvement                0\n",
              "JobLevel                      0\n",
              "JobRole                       0\n",
              "JobSatisfaction               0\n",
              "MaritalStatus                 0\n",
              "MonthlyIncome                 0\n",
              "MonthlyRate                   0\n",
              "NumCompaniesWorked            0\n",
              "Over18                        0\n",
              "OverTime                      0\n",
              "PercentSalaryHike             0\n",
              "PerformanceRating             0\n",
              "RelationshipSatisfaction      0\n",
              "StandardHours                 0\n",
              "StockOptionLevel              0\n",
              "TotalWorkingYears             0\n",
              "TrainingTimesLastYear         0\n",
              "WorkLifeBalance               0\n",
              "YearsAtCompany                0\n",
              "YearsInCurrentRole            0\n",
              "YearsSinceLastPromotion       0\n",
              "YearsWithCurrManager          0\n",
              "dtype: int64"
            ]
          },
          "execution_count": 18,
          "metadata": {},
          "output_type": "execute_result"
        }
      ],
      "source": [
        "# Mengecek jumlah nilai kosong (NaN) di setiap kolom pada DataFrame data_karyawan\n",
        "data_karyawan.isna().sum()"
      ]
    },
    {
      "cell_type": "markdown",
      "metadata": {
        "id": "6tBSy7so17el"
      },
      "source": [
        "## Data Preparation / Preprocessing"
      ]
    },
    {
      "cell_type": "markdown",
      "metadata": {
        "id": "y2RJuxFBHvch"
      },
      "source": [
        "### Handling Missing Value"
      ]
    },
    {
      "cell_type": "code",
      "execution_count": 19,
      "metadata": {
        "id": "9wVOOjas17en"
      },
      "outputs": [],
      "source": [
        "# Menghitung nilai yang paling sering muncul (modus) pada kolom 'Attrition' di data_karyawan\n",
        "mode_value = data_karyawan['Attrition'].mode()[0]\n",
        "# Mengisi nilai kosong (NaN) di kolom 'Attrition' dengan nilai modus\n",
        "data_karyawan['Attrition'] = data_karyawan['Attrition'].fillna(mode_value)"
      ]
    },
    {
      "cell_type": "code",
      "execution_count": 20,
      "metadata": {
        "colab": {
          "base_uri": "https://localhost:8080/",
          "height": 1000
        },
        "id": "ePZExp2FJQer",
        "outputId": "b7fd15f6-1360-462c-f3ba-93578afc8f07"
      },
      "outputs": [
        {
          "data": {
            "text/plain": [
              "EmployeeId                  0\n",
              "Age                         0\n",
              "Attrition                   0\n",
              "BusinessTravel              0\n",
              "DailyRate                   0\n",
              "Department                  0\n",
              "DistanceFromHome            0\n",
              "Education                   0\n",
              "EducationField              0\n",
              "EmployeeCount               0\n",
              "EnvironmentSatisfaction     0\n",
              "Gender                      0\n",
              "HourlyRate                  0\n",
              "JobInvolvement              0\n",
              "JobLevel                    0\n",
              "JobRole                     0\n",
              "JobSatisfaction             0\n",
              "MaritalStatus               0\n",
              "MonthlyIncome               0\n",
              "MonthlyRate                 0\n",
              "NumCompaniesWorked          0\n",
              "Over18                      0\n",
              "OverTime                    0\n",
              "PercentSalaryHike           0\n",
              "PerformanceRating           0\n",
              "RelationshipSatisfaction    0\n",
              "StandardHours               0\n",
              "StockOptionLevel            0\n",
              "TotalWorkingYears           0\n",
              "TrainingTimesLastYear       0\n",
              "WorkLifeBalance             0\n",
              "YearsAtCompany              0\n",
              "YearsInCurrentRole          0\n",
              "YearsSinceLastPromotion     0\n",
              "YearsWithCurrManager        0\n",
              "dtype: int64"
            ]
          },
          "execution_count": 20,
          "metadata": {},
          "output_type": "execute_result"
        }
      ],
      "source": [
        "# Mengecek jumlah nilai kosong (NaN) di setiap kolom dalam DataFrame data_karyawan\n",
        "data_karyawan.isna().sum()"
      ]
    },
    {
      "cell_type": "markdown",
      "metadata": {
        "id": "LPON5gr9Jf9t"
      },
      "source": [
        "### Feature Engineering"
      ]
    },
    {
      "cell_type": "code",
      "execution_count": 21,
      "metadata": {
        "id": "G99PS3r5Jiyq"
      },
      "outputs": [],
      "source": [
        "# Menghitung rata-rata dari tiga kolom kepuasan dan menyimpannya dalam kolom baru 'PerformanceSatisfactionIndex'\n",
        "data_karyawan['PerformanceSatisfactionIndex'] = data_karyawan[['EnvironmentSatisfaction', 'JobSatisfaction', 'RelationshipSatisfaction']].mean(axis=1)\n",
        "\n",
        "# Menghapus kolom-kolom kepuasan individual karena sudah dirangkum ke dalam satu kolom baru\n",
        "data_karyawan.drop(['EnvironmentSatisfaction', 'JobSatisfaction', 'RelationshipSatisfaction'], axis=1, inplace=True)"
      ]
    },
    {
      "cell_type": "code",
      "execution_count": 22,
      "metadata": {
        "id": "xx7bD-kdKEkb"
      },
      "outputs": [],
      "source": [
        "# Fungsi untuk mengelompokkan skor kepuasan menjadi kategori: Low, Medium, High, Very High\n",
        "def satisfaction(score):\n",
        "    score = float(score)\n",
        "    if (score >= 1.00) and (score <= 1.99):\n",
        "        return 'Low'\n",
        "    elif (score >= 2.0) and (score <= 2.99):\n",
        "        return 'Medium'\n",
        "    elif (score >= 3.00) and (score <= 3.99):\n",
        "        return 'High'\n",
        "    else:\n",
        "        return 'Very High'\n",
        "\n",
        "# Menerapkan fungsi satisfaction ke kolom 'PerformanceSatisfactionIndex' di DataFrame data_karyawan\n",
        "data_karyawan['PerformanceSatisfactionIndex'] = data_karyawan['PerformanceSatisfactionIndex'].apply(satisfaction)"
      ]
    },
    {
      "cell_type": "code",
      "execution_count": 23,
      "metadata": {
        "id": "UD1ovRd6Kok3"
      },
      "outputs": [],
      "source": [
        "# Menghitung pengalaman kerja sebelum pekerjaan saat ini dengan mengurangi\n",
        "# tahun total bekerja dengan tahun yang telah dihabiskan di perusahaan saat ini.\n",
        "data_karyawan['ExperiencePriorToCurrentJob'] = data_karyawan['TotalWorkingYears'] - data_karyawan['YearsAtCompany']\n",
        "\n",
        "# Menghapus kolom 'TotalWorkingYears' dan 'YearsAtCompany' karena tidak diperlukan lagi\n",
        "# setelah kita memiliki informasi tentang pengalaman sebelum pekerjaan saat ini.\n",
        "data_karyawan.drop(['TotalWorkingYears', 'YearsAtCompany'], axis=1, inplace=True)\n"
      ]
    },
    {
      "cell_type": "code",
      "execution_count": 24,
      "metadata": {
        "id": "IKVs7-clLSVg"
      },
      "outputs": [],
      "source": [
        "# Mengklasifikasikan pengalaman kerja berdasarkan jumlah tahun pengalaman\n",
        "def experience(years):\n",
        "    if (years >= 0) and (years <= 5):  # Pengalaman 0-5 tahun: Junior\n",
        "        return 'Junior'\n",
        "    elif (years >= 6) and (years <= 10):  # Pengalaman 6-10 tahun: Mid-level\n",
        "        return 'Mid-level'\n",
        "    elif (years >= 11) and (years <= 20):  # Pengalaman 11-20 tahun: Senior\n",
        "        return 'Senior'\n",
        "    elif (years >= 21) and (years <= 30):  # Pengalaman 21-30 tahun: Expert\n",
        "        return 'Expert'\n",
        "    else:  # Pengalaman lebih dari 30 tahun: Veteran\n",
        "        return 'Veteran'\n",
        "\n",
        "# Menggunakan fungsi 'experience' untuk mengklasifikasikan setiap nilai dalam kolom 'ExperiencePriorToCurrentJob'\n",
        "data_karyawan['ExperiencePriorToCurrentJob'] = data_karyawan['ExperiencePriorToCurrentJob'].apply(experience)\n"
      ]
    },
    {
      "cell_type": "code",
      "execution_count": 25,
      "metadata": {
        "id": "KSDOTAt4MKmu"
      },
      "outputs": [],
      "source": [
        "# Menghitung skor keterlibatan karyawan dengan rata-rata dari kolom 'JobInvolvement',\n",
        "# 'PerformanceRating', dan 'WorkLifeBalance' untuk menghasilkan skor keterlibatan karyawan\n",
        "data_karyawan['EmployeeEngagementScore'] = (data_karyawan['JobInvolvement'] +\n",
        "                                            data_karyawan['PerformanceRating'] +\n",
        "                                            data_karyawan['WorkLifeBalance']) / 3\n",
        "\n",
        "# Menghapus kolom 'JobInvolvement', 'PerformanceRating', dan 'WorkLifeBalance'\n",
        "# setelah skor keterlibatan karyawan dihitung dan disimpan di kolom baru 'EmployeeEngagementScore'\n",
        "data_karyawan.drop(['JobInvolvement', 'PerformanceRating', 'WorkLifeBalance'], axis=1, inplace=True)"
      ]
    },
    {
      "cell_type": "code",
      "execution_count": 26,
      "metadata": {
        "id": "k6djB9GiMq8J"
      },
      "outputs": [],
      "source": [
        "# Mengklasifikasikan skor keterlibatan karyawan berdasarkan rentang nilai\n",
        "def engagement(score):\n",
        "    score = float(score)  # Mengonversi nilai skor menjadi float agar dapat dibandingkan\n",
        "    if (score >= 1.00) and (score <= 1.99):  # Skor antara 1.00 dan 1.99 dianggap 'Bad'\n",
        "        return 'Bad'\n",
        "    elif (score >= 2.0) and (score <= 2.99):  # Skor antara 2.00 dan 2.99 dianggap 'Good'\n",
        "        return 'Good'\n",
        "    elif (score >= 3.00) and (score <= 3.99):  # Skor antara 3.00 dan 3.99 dianggap 'Better'\n",
        "        return 'Better'\n",
        "    else:  # Skor 4.00 atau lebih dianggap 'Best'\n",
        "        return 'Best'\n",
        "\n",
        "# Menggunakan fungsi 'engagement' untuk mengklasifikasikan setiap nilai dalam kolom 'EmployeeEngagementScore'\n",
        "data_karyawan['EmployeeEngagementScore'] = data_karyawan['EmployeeEngagementScore'].apply(engagement)\n"
      ]
    },
    {
      "cell_type": "code",
      "execution_count": 27,
      "metadata": {
        "id": "0P5GXl1xNv--"
      },
      "outputs": [],
      "source": [
        "# Fungsi untuk mengklasifikasikan jarak karyawan dari rumah berdasarkan rentang nilai\n",
        "def distance_category(distance):\n",
        "    if (distance >= 1) & (distance <= 10):  # Jarak antara 1 hingga 10 dianggap sebagai 'Short Distance'\n",
        "        return 'Short Distance'\n",
        "    elif (distance >= 11) & (distance <= 20):  # Jarak antara 11 hingga 20 dianggap sebagai 'Medium Distance'\n",
        "        return 'Medium Distance'\n",
        "    else:  # Jarak lebih dari 20 dianggap sebagai 'Long Distance'\n",
        "        return 'Long Distance'\n",
        "\n",
        "# Menggunakan fungsi 'distance_category' untuk mengklasifikasikan nilai dalam kolom 'DistanceFromHome' ke dalam kategori\n",
        "data_karyawan['DistanceFromHomeCategory'] = data_karyawan['DistanceFromHome'].apply(distance_category)\n",
        "\n",
        "# Menghapus kolom 'DistanceFromHome' karena informasi tersebut telah tergabung dalam kategori baru\n",
        "data_karyawan.drop(['DistanceFromHome'], axis=1, inplace=True)"
      ]
    },
    {
      "cell_type": "code",
      "execution_count": 28,
      "metadata": {
        "id": "KMXvWFjjNz3w"
      },
      "outputs": [],
      "source": [
        "# Mengklasifikasikan generasi berdasarkan usia\n",
        "def generation(age):\n",
        "    if (age >= 61) & (age <= 70):  # Usia antara 61 hingga 70 dianggap sebagai 'Baby Boomers'\n",
        "        return 'Baby Boomers'\n",
        "    elif (age >= 51) & (age <= 60):  # Usia antara 51 hingga 60 dianggap sebagai 'Gen X'\n",
        "        return 'Gen X'\n",
        "    elif (age >= 41) & (age <= 50):  # Usia antara 41 hingga 50 dianggap sebagai 'Gen Y'\n",
        "        return 'Gen Y'\n",
        "    elif (age >= 31) & (age <= 40):  # Usia antara 31 hingga 40 dianggap sebagai 'Millennials'\n",
        "        return 'Millennials'\n",
        "    else:  # Usia 30 atau kurang dianggap sebagai 'Gen Z'\n",
        "        return 'Gen Z'\n",
        "\n",
        "# Menggunakan fungsi 'generation' untuk mengklasifikasikan usia setiap karyawan ke dalam generasi yang sesuai\n",
        "data_karyawan['AgeGeneration'] = data_karyawan['Age'].apply(generation)\n",
        "\n",
        "# Menghapus kolom 'Age' setelah generasi diklasifikasikan ke dalam kolom baru 'AgeGeneration'\n",
        "data_karyawan.drop(['Age'], axis=1, inplace=True)\n"
      ]
    },
    {
      "cell_type": "code",
      "execution_count": 29,
      "metadata": {
        "id": "wxMqYrxQOmTR"
      },
      "outputs": [],
      "source": [
        "# Membuat mapping untuk kolom 'Education' berdasarkan kode numerik\n",
        "education_map = {\n",
        "    1: 'Below College',  # Kode 1 berarti 'Below College'\n",
        "    2: 'College',        # Kode 2 berarti 'College'\n",
        "    3: 'Bachelor',       # Kode 3 berarti 'Bachelor'\n",
        "    4: 'Master',         # Kode 4 berarti 'Master'\n",
        "    5: 'Doctor'          # Kode 5 berarti 'Doctor'\n",
        "}\n",
        "\n",
        "# Menggunakan fungsi map() untuk mengganti nilai numerik di kolom 'Education' dengan kategori yang sesuai\n",
        "data_karyawan['Education'] = data_karyawan['Education'].map(education_map)\n",
        "\n",
        "# Membuat mapping untuk kolom 'JobLevel' berdasarkan kode numerik\n",
        "job_level_mapping = {\n",
        "    1: 'Staff',            # Kode 1 berarti 'Staff'\n",
        "    2: 'Junior Supervisor',# Kode 2 berarti 'Junior Supervisor'\n",
        "    3: 'Senior Supervisor',# Kode 3 berarti 'Senior Supervisor'\n",
        "    4: 'Junior Manager',   # Kode 4 berarti 'Junior Manager'\n",
        "    5: 'Senior Manager'    # Kode 5 berarti 'Senior Manager'\n",
        "}\n",
        "\n",
        "# Menggunakan fungsi map() untuk mengganti nilai numerik di kolom 'JobLevel' dengan kategori yang sesuai\n",
        "data_karyawan['JobLevel'] = data_karyawan['JobLevel'].map(job_level_mapping)\n"
      ]
    },
    {
      "cell_type": "code",
      "execution_count": 30,
      "metadata": {
        "colab": {
          "base_uri": "https://localhost:8080/",
          "height": 931
        },
        "id": "b2FGnBTfO6mT",
        "outputId": "7be5aa02-9389-491a-bb1e-b64d1120597f"
      },
      "outputs": [
        {
          "data": {
            "text/plain": [
              "AgeGeneration                    object\n",
              "Attrition                       float64\n",
              "BusinessTravel                   object\n",
              "DailyRate                         int64\n",
              "Department                       object\n",
              "DistanceFromHomeCategory         object\n",
              "Education                        object\n",
              "EducationField                   object\n",
              "EmployeeEngagementScore          object\n",
              "EmployeeId                        int64\n",
              "ExperiencePriorToCurrentJob      object\n",
              "Gender                           object\n",
              "HourlyRate                        int64\n",
              "JobLevel                         object\n",
              "JobRole                          object\n",
              "MaritalStatus                    object\n",
              "MonthlyIncome                     int64\n",
              "MonthlyRate                       int64\n",
              "NumCompaniesWorked                int64\n",
              "OverTime                         object\n",
              "PercentSalaryHike                 int64\n",
              "PerformanceSatisfactionIndex     object\n",
              "StockOptionLevel                  int64\n",
              "TrainingTimesLastYear             int64\n",
              "YearsInCurrentRole                int64\n",
              "YearsSinceLastPromotion           int64\n",
              "YearsWithCurrManager              int64\n",
              "dtype: object"
            ]
          },
          "execution_count": 30,
          "metadata": {},
          "output_type": "execute_result"
        }
      ],
      "source": [
        "# Menghapus kolom 'StandardHours', 'EmployeeCount', dan 'Over18' karena dianggap tidak diperlukan untuk analisis\n",
        "data_karyawan.drop(['StandardHours', 'EmployeeCount', 'Over18'], axis=1, inplace=True)\n",
        "\n",
        "# Mengurutkan kolom dalam DataFrame berdasarkan nama kolom secara alfabetis untuk memudahkan pembacaan\n",
        "data_karyawan = data_karyawan.reindex(sorted(data_karyawan.columns), axis=1)\n",
        "\n",
        "# Menampilkan tipe data dari setiap kolom dalam DataFrame\n",
        "data_karyawan.dtypes"
      ]
    },
    {
      "cell_type": "code",
      "execution_count": 31,
      "metadata": {
        "colab": {
          "base_uri": "https://localhost:8080/",
          "height": 325
        },
        "id": "wKlOtbdPPked",
        "outputId": "1e789148-835f-447e-c468-599ebe3a9508"
      },
      "outputs": [
        {
          "data": {
            "text/html": [
              "<div>\n",
              "<style scoped>\n",
              "    .dataframe tbody tr th:only-of-type {\n",
              "        vertical-align: middle;\n",
              "    }\n",
              "\n",
              "    .dataframe tbody tr th {\n",
              "        vertical-align: top;\n",
              "    }\n",
              "\n",
              "    .dataframe thead th {\n",
              "        text-align: right;\n",
              "    }\n",
              "</style>\n",
              "<table border=\"1\" class=\"dataframe\">\n",
              "  <thead>\n",
              "    <tr style=\"text-align: right;\">\n",
              "      <th></th>\n",
              "      <th>AgeGeneration</th>\n",
              "      <th>Attrition</th>\n",
              "      <th>BusinessTravel</th>\n",
              "      <th>DailyRate</th>\n",
              "      <th>Department</th>\n",
              "      <th>DistanceFromHomeCategory</th>\n",
              "      <th>Education</th>\n",
              "      <th>EducationField</th>\n",
              "      <th>EmployeeEngagementScore</th>\n",
              "      <th>EmployeeId</th>\n",
              "      <th>...</th>\n",
              "      <th>MonthlyRate</th>\n",
              "      <th>NumCompaniesWorked</th>\n",
              "      <th>OverTime</th>\n",
              "      <th>PercentSalaryHike</th>\n",
              "      <th>PerformanceSatisfactionIndex</th>\n",
              "      <th>StockOptionLevel</th>\n",
              "      <th>TrainingTimesLastYear</th>\n",
              "      <th>YearsInCurrentRole</th>\n",
              "      <th>YearsSinceLastPromotion</th>\n",
              "      <th>YearsWithCurrManager</th>\n",
              "    </tr>\n",
              "  </thead>\n",
              "  <tbody>\n",
              "    <tr>\n",
              "      <th>0</th>\n",
              "      <td>Millennials</td>\n",
              "      <td>0.0</td>\n",
              "      <td>Travel_Frequently</td>\n",
              "      <td>1444</td>\n",
              "      <td>Human Resources</td>\n",
              "      <td>Short Distance</td>\n",
              "      <td>Master</td>\n",
              "      <td>Other</td>\n",
              "      <td>Better</td>\n",
              "      <td>1</td>\n",
              "      <td>...</td>\n",
              "      <td>5224</td>\n",
              "      <td>0</td>\n",
              "      <td>Yes</td>\n",
              "      <td>11</td>\n",
              "      <td>Medium</td>\n",
              "      <td>1</td>\n",
              "      <td>2</td>\n",
              "      <td>2</td>\n",
              "      <td>1</td>\n",
              "      <td>2</td>\n",
              "    </tr>\n",
              "    <tr>\n",
              "      <th>1</th>\n",
              "      <td>Millennials</td>\n",
              "      <td>1.0</td>\n",
              "      <td>Travel_Rarely</td>\n",
              "      <td>1141</td>\n",
              "      <td>Research &amp; Development</td>\n",
              "      <td>Medium Distance</td>\n",
              "      <td>College</td>\n",
              "      <td>Medical</td>\n",
              "      <td>Bad</td>\n",
              "      <td>2</td>\n",
              "      <td>...</td>\n",
              "      <td>14382</td>\n",
              "      <td>5</td>\n",
              "      <td>No</td>\n",
              "      <td>15</td>\n",
              "      <td>Low</td>\n",
              "      <td>0</td>\n",
              "      <td>2</td>\n",
              "      <td>0</td>\n",
              "      <td>0</td>\n",
              "      <td>0</td>\n",
              "    </tr>\n",
              "    <tr>\n",
              "      <th>2</th>\n",
              "      <td>Gen X</td>\n",
              "      <td>1.0</td>\n",
              "      <td>Travel_Rarely</td>\n",
              "      <td>1323</td>\n",
              "      <td>Research &amp; Development</td>\n",
              "      <td>Short Distance</td>\n",
              "      <td>Master</td>\n",
              "      <td>Life Sciences</td>\n",
              "      <td>Better</td>\n",
              "      <td>3</td>\n",
              "      <td>...</td>\n",
              "      <td>10332</td>\n",
              "      <td>9</td>\n",
              "      <td>Yes</td>\n",
              "      <td>12</td>\n",
              "      <td>Medium</td>\n",
              "      <td>3</td>\n",
              "      <td>2</td>\n",
              "      <td>0</td>\n",
              "      <td>2</td>\n",
              "      <td>7</td>\n",
              "    </tr>\n",
              "    <tr>\n",
              "      <th>3</th>\n",
              "      <td>Gen Y</td>\n",
              "      <td>0.0</td>\n",
              "      <td>Travel_Frequently</td>\n",
              "      <td>555</td>\n",
              "      <td>Sales</td>\n",
              "      <td>Long Distance</td>\n",
              "      <td>Bachelor</td>\n",
              "      <td>Marketing</td>\n",
              "      <td>Better</td>\n",
              "      <td>4</td>\n",
              "      <td>...</td>\n",
              "      <td>14864</td>\n",
              "      <td>5</td>\n",
              "      <td>No</td>\n",
              "      <td>14</td>\n",
              "      <td>High</td>\n",
              "      <td>1</td>\n",
              "      <td>2</td>\n",
              "      <td>4</td>\n",
              "      <td>4</td>\n",
              "      <td>8</td>\n",
              "    </tr>\n",
              "    <tr>\n",
              "      <th>4</th>\n",
              "      <td>Millennials</td>\n",
              "      <td>0.0</td>\n",
              "      <td>Travel_Rarely</td>\n",
              "      <td>1194</td>\n",
              "      <td>Research &amp; Development</td>\n",
              "      <td>Short Distance</td>\n",
              "      <td>Master</td>\n",
              "      <td>Medical</td>\n",
              "      <td>Better</td>\n",
              "      <td>5</td>\n",
              "      <td>...</td>\n",
              "      <td>12549</td>\n",
              "      <td>2</td>\n",
              "      <td>No</td>\n",
              "      <td>14</td>\n",
              "      <td>Medium</td>\n",
              "      <td>3</td>\n",
              "      <td>2</td>\n",
              "      <td>3</td>\n",
              "      <td>0</td>\n",
              "      <td>2</td>\n",
              "    </tr>\n",
              "  </tbody>\n",
              "</table>\n",
              "<p>5 rows × 27 columns</p>\n",
              "</div>"
            ],
            "text/plain": [
              "  AgeGeneration  Attrition     BusinessTravel  DailyRate  \\\n",
              "0   Millennials        0.0  Travel_Frequently       1444   \n",
              "1   Millennials        1.0      Travel_Rarely       1141   \n",
              "2         Gen X        1.0      Travel_Rarely       1323   \n",
              "3         Gen Y        0.0  Travel_Frequently        555   \n",
              "4   Millennials        0.0      Travel_Rarely       1194   \n",
              "\n",
              "               Department DistanceFromHomeCategory Education EducationField  \\\n",
              "0         Human Resources           Short Distance    Master          Other   \n",
              "1  Research & Development          Medium Distance   College        Medical   \n",
              "2  Research & Development           Short Distance    Master  Life Sciences   \n",
              "3                   Sales            Long Distance  Bachelor      Marketing   \n",
              "4  Research & Development           Short Distance    Master        Medical   \n",
              "\n",
              "  EmployeeEngagementScore  EmployeeId  ... MonthlyRate NumCompaniesWorked  \\\n",
              "0                  Better           1  ...        5224                  0   \n",
              "1                     Bad           2  ...       14382                  5   \n",
              "2                  Better           3  ...       10332                  9   \n",
              "3                  Better           4  ...       14864                  5   \n",
              "4                  Better           5  ...       12549                  2   \n",
              "\n",
              "   OverTime PercentSalaryHike PerformanceSatisfactionIndex StockOptionLevel  \\\n",
              "0       Yes                11                       Medium                1   \n",
              "1        No                15                          Low                0   \n",
              "2       Yes                12                       Medium                3   \n",
              "3        No                14                         High                1   \n",
              "4        No                14                       Medium                3   \n",
              "\n",
              "   TrainingTimesLastYear  YearsInCurrentRole  YearsSinceLastPromotion  \\\n",
              "0                      2                   2                        1   \n",
              "1                      2                   0                        0   \n",
              "2                      2                   0                        2   \n",
              "3                      2                   4                        4   \n",
              "4                      2                   3                        0   \n",
              "\n",
              "  YearsWithCurrManager  \n",
              "0                    2  \n",
              "1                    0  \n",
              "2                    7  \n",
              "3                    8  \n",
              "4                    2  \n",
              "\n",
              "[5 rows x 27 columns]"
            ]
          },
          "execution_count": 31,
          "metadata": {},
          "output_type": "execute_result"
        }
      ],
      "source": [
        "# Menampilkan 5 baris pertama dari DataFrame 'data_karyawan'\n",
        "data_karyawan.head()"
      ]
    },
    {
      "cell_type": "code",
      "execution_count": 32,
      "metadata": {
        "colab": {
          "base_uri": "https://localhost:8080/",
          "height": 178
        },
        "id": "sejhIv8sQmC4",
        "outputId": "2abc04d2-e404-44f9-c8f0-baef05d59881"
      },
      "outputs": [
        {
          "data": {
            "text/plain": [
              "Attrition\n",
              "0    1291\n",
              "1     179\n",
              "Name: count, dtype: int64"
            ]
          },
          "execution_count": 32,
          "metadata": {},
          "output_type": "execute_result"
        }
      ],
      "source": [
        "# Mengubah nilai 'Attrition' dari kategori (No, Yes) menjadi nilai numerik (0, 1) dengan menggunakan fungsi factorize\n",
        "data_karyawan['Attrition'] = data_karyawan['Attrition'].factorize(['No', 'Yes'])[0]\n",
        "\n",
        "# Menampilkan jumlah masing-masing kategori 'Attrition' (jumlah karyawan yang keluar vs tidak keluar)\n",
        "data_karyawan['Attrition'].value_counts()"
      ]
    },
    {
      "cell_type": "code",
      "execution_count": 33,
      "metadata": {
        "id": "QBB4f2fQQ4UG"
      },
      "outputs": [],
      "source": [
        "# Menyimpan DataFrame 'data_karyawan' ke dalam file CSV dengan nama 'employee_clean.csv'\n",
        "data_karyawan.to_csv('employee_clean.csv', index=False)"
      ]
    },
    {
      "cell_type": "code",
      "execution_count": 34,
      "metadata": {
        "colab": {
          "base_uri": "https://localhost:8080/",
          "height": 468
        },
        "id": "LY25uMihSBhA",
        "outputId": "8cfc6a57-a09a-42aa-8cfb-f04cac3ede05"
      },
      "outputs": [
        {
          "data": {
            "image/png": "[encoded data removed]",
            "text/plain": [
              "<Figure size 800x500 with 1 Axes>"
            ]
          },
          "metadata": {},
          "output_type": "display_data"
        }
      ],
      "source": [
        "# Memisahkan data berdasarkan 'Attrition' (1 = keluar, 0 = tidak keluar)\n",
        "attrition = data_karyawan[data_karyawan['Attrition'] == 1]\n",
        "no_attrition = data_karyawan[data_karyawan['Attrition'] == 0]\n",
        "\n",
        "# Menghitung jumlah masing-masing kategori\n",
        "attrition_count = len(attrition)\n",
        "no_attrition_count = len(no_attrition)\n",
        "\n",
        "# Menyusun kategori dan jumlah untuk plot\n",
        "categories = ['Yes_attrition', 'No_attrition']\n",
        "counts = [attrition_count, no_attrition_count]\n",
        "\n",
        "# Membuat barplot dengan palet warna Turquoise dan Coral\n",
        "plt.figure(figsize=(8, 5))\n",
        "sns.barplot(x=counts, y=categories, hue=categories, palette=['#40E0D0','#FF7F50'], dodge=False)\n",
        "\n",
        "# Memberikan judul pada plot\n",
        "plt.title('Count of Attrition Variable')\n",
        "plt.show()"
      ]
    },
    {
      "cell_type": "code",
      "execution_count": 35,
      "metadata": {
        "colab": {
          "base_uri": "https://localhost:8080/",
          "height": 675
        },
        "id": "Ii1QY63sTIy0",
        "outputId": "2030466c-b917-419f-80b9-58e6c5a65708"
      },
      "outputs": [
        {
          "data": {
            "image/png": "[encoded data removed]",
            "text/plain": [
              "<Figure size 800x800 with 1 Axes>"
            ]
          },
          "metadata": {},
          "output_type": "display_data"
        }
      ],
      "source": [
        "# Menghitung distribusi 'Attrition' pada data_karyawan\n",
        "attrition_counts = data_karyawan['Attrition'].value_counts()\n",
        "labels = attrition_counts.index\n",
        "sizes = attrition_counts.values\n",
        "colors = ['#40E0D0','#FF7F50']  #Turquoise dan Coral\n",
        "\n",
        "# Membuat pie chart\n",
        "plt.figure(figsize=(8, 8))\n",
        "plt.pie(sizes, colors=colors, autopct='%1.1f%%', startangle=140, labeldistance=0.7)\n",
        "plt.axis('equal')  # Agar pie chart berbentuk lingkaran\n",
        "plt.legend(labels, loc=\"best\")\n",
        "\n",
        "# Memberikan judul pada pie chart\n",
        "plt.title('Distribution of Attrition Variable')\n",
        "plt.show()"
      ]
    },
    {
      "cell_type": "code",
      "execution_count": 36,
      "metadata": {
        "colab": {
          "base_uri": "https://localhost:8080/",
          "height": 1000
        },
        "id": "5WHmUXamWdD4",
        "outputId": "646195c7-dd31-4da3-8b7a-42efa3619fca"
      },
      "outputs": [
        {
          "data": {
            "image/png": "[encoded data removed]",
            "text/plain": [
              "<Figure size 1500x1500 with 6 Axes>"
            ]
          },
          "metadata": {},
          "output_type": "display_data"
        }
      ],
      "source": [
        "# Definisikan palet warna\n",
        "colors = ['#40E0D0', '#FF7F50']  # Turquoise dan Coral\n",
        "\n",
        "# Membuat 6 subplot (3 baris x 2 kolom)\n",
        "fig, axes = plt.subplots(nrows=3, ncols=2, figsize=(15, 15))\n",
        "\n",
        "# Visualisasi: Attrition berdasarkan Generasi Usia\n",
        "sns.countplot(x='AgeGeneration', hue='Attrition', data=data_karyawan, palette=colors, ax=axes[0, 0])\n",
        "axes[0, 0].set_title('Attrition berdasarkan Generasi Usia')\n",
        "axes[0, 0].set_xlabel('Generasi Usia')\n",
        "axes[0, 0].set_ylabel('Jumlah')\n",
        "axes[0, 0].legend(title='Attrition', loc='upper right', labels=['Tidak', 'Ya'])\n",
        "for p in axes[0, 0].patches:\n",
        "    if p.get_height() > 0:\n",
        "        axes[0, 0].annotate(str(int(p.get_height())),\n",
        "                            (p.get_x() + p.get_width() / 2., p.get_height()),\n",
        "                            ha='center', va='center', xytext=(0, 8), textcoords='offset points')\n",
        "\n",
        "# Visualisasi: Attrition berdasarkan Gender\n",
        "sns.countplot(x='Gender', hue='Attrition', data=data_karyawan, palette=colors, ax=axes[0, 1])\n",
        "axes[0, 1].set_title('Attrition berdasarkan Gender')\n",
        "axes[0, 1].set_xlabel('Gender')\n",
        "axes[0, 1].set_ylabel('Jumlah')\n",
        "axes[0, 1].legend(title='Attrition', loc='upper right', labels=['Tidak', 'Ya'])\n",
        "for p in axes[0, 1].patches:\n",
        "    if p.get_height() > 0:\n",
        "        axes[0, 1].annotate(str(int(p.get_height())),\n",
        "                            (p.get_x() + p.get_width() / 2., p.get_height()),\n",
        "                            ha='center', va='center', xytext=(0, 8), textcoords='offset points')\n",
        "\n",
        "# Visualisasi: Attrition berdasarkan Tingkat Pendidikan\n",
        "sns.countplot(x='Education', hue='Attrition', data=data_karyawan, palette=colors, ax=axes[2, 0])\n",
        "axes[2, 0].set_title('Attrition berdasarkan Pendidikan')\n",
        "axes[2, 0].set_xlabel('Tingkat Pendidikan')\n",
        "axes[2, 0].set_ylabel('Jumlah')\n",
        "axes[2, 0].legend(title='Attrition', loc='upper right', labels=['Tidak', 'Ya'])\n",
        "for p in axes[2, 0].patches:\n",
        "    if p.get_height() > 0:\n",
        "        axes[2, 0].annotate(str(int(p.get_height())),\n",
        "                            (p.get_x() + p.get_width() / 2., p.get_height()),\n",
        "                            ha='center', va='center', xytext=(0, 8), textcoords='offset points')\n",
        "\n",
        "# Visualisasi: Attrition berdasarkan Kategori Jarak dari Rumah\n",
        "sns.countplot(x='DistanceFromHomeCategory', hue='Attrition', data=data_karyawan, palette=colors, ax=axes[1, 1])\n",
        "axes[1, 1].set_title('Attrition berdasarkan Jarak dari Rumah')\n",
        "axes[1, 1].set_xlabel('Kategori Jarak')\n",
        "axes[1, 1].set_ylabel('Jumlah')\n",
        "axes[1, 1].legend(title='Attrition', loc='upper right', labels=['Tidak', 'Ya'])\n",
        "for p in axes[1, 1].patches:\n",
        "    if p.get_height() > 0:\n",
        "        axes[1, 1].annotate(str(int(p.get_height())),\n",
        "                            (p.get_x() + p.get_width() / 2., p.get_height()),\n",
        "                            ha='center', va='center', xytext=(0, 8), textcoords='offset points')\n",
        "\n",
        "\n",
        "# Visualisasi: Attrition berdasarkan Departemen\n",
        "sns.countplot(x='Department', hue='Attrition', data=data_karyawan, palette=colors, ax=axes[2, 1])\n",
        "axes[2, 1].set_title('Attrition berdasarkan Departemen')\n",
        "axes[2, 1].set_xlabel('Departemen')\n",
        "axes[2, 1].set_ylabel('Jumlah')\n",
        "axes[2, 1].legend(title='Attrition', loc='upper right', labels=['Tidak', 'Ya'])\n",
        "for p in axes[2, 1].patches:\n",
        "    if p.get_height() > 0:\n",
        "        axes[2, 1].annotate(str(int(p.get_height())),\n",
        "                            (p.get_x() + p.get_width() / 2., p.get_height()),\n",
        "                            ha='center', va='center', xytext=(0, 8), textcoords='offset points')\n",
        "\n",
        "# Visualisasi: Attrition berdasarkan Perjalanan Bisnis\n",
        "sns.countplot(x='BusinessTravel', hue='Attrition', data=data_karyawan, palette=colors, ax=axes[1, 0])\n",
        "axes[1, 0].set_title('Attrition berdasarkan Business Travel')\n",
        "axes[1, 0].set_xlabel('Jenis Perjalanan')\n",
        "axes[1, 0].set_ylabel('Jumlah')\n",
        "axes[1, 0].legend(title='Attrition', loc='upper right', labels=['Tidak', 'Ya'])\n",
        "for p in axes[1, 0].patches:\n",
        "    if p.get_height() > 0:\n",
        "        axes[1, 0].annotate(str(int(p.get_height())),\n",
        "                            (p.get_x() + p.get_width() / 2., p.get_height()),\n",
        "                            ha='center', va='center', xytext=(0, 8), textcoords='offset points')\n",
        "\n",
        "# Menyesuaikan tata letak agar tidak saling menindih\n",
        "plt.tight_layout()\n",
        "plt.show()\n"
      ]
    },
    {
      "cell_type": "code",
      "execution_count": 37,
      "metadata": {
        "colab": {
          "base_uri": "https://localhost:8080/",
          "height": 1000
        },
        "id": "SLtS9Vala20B",
        "outputId": "05e45a2c-9010-4764-c297-1bda432ba856"
      },
      "outputs": [
        {
          "data": {
            "image/png": "[encoded data removed]",
            "text/plain": [
              "<Figure size 1500x1500 with 6 Axes>"
            ]
          },
          "metadata": {},
          "output_type": "display_data"
        }
      ],
      "source": [
        "# Definisikan palet warna\n",
        "colors = ['#40E0D0', '#FF7F50']  # Turquoise dan Coral\n",
        "\n",
        "# Buat subplots\n",
        "fig, axes = plt.subplots(nrows=3, ncols=2, figsize=(15, 15))\n",
        "\n",
        "# Attrition berdasarkan Job Level\n",
        "sns.countplot(x='JobLevel', hue='Attrition', data=data_karyawan, palette=colors, ax=axes[0, 0])\n",
        "axes[0, 0].set_title('Attrition berdasarkan Job Level')\n",
        "axes[0, 0].set_xlabel('Job Level')\n",
        "axes[0, 0].set_ylabel('Jumlah')\n",
        "for p in axes[0, 0].patches:\n",
        "    if p.get_height() > 0:\n",
        "        axes[0, 0].annotate(str(int(p.get_height())), (p.get_x() + p.get_width() / 2., p.get_height()), ha='center', va='center', xytext=(0, 8), textcoords='offset points')\n",
        "\n",
        "# Attrition berdasarkan Pengalaman Sebelumnya\n",
        "sns.countplot(x='ExperiencePriorToCurrentJob', hue='Attrition', data=data_karyawan, palette=colors, ax=axes[1, 1])\n",
        "axes[1, 1].set_title('Attrition berdasarkan Pengalaman Sebelumnya')\n",
        "axes[1, 1].set_xlabel('Pengalaman Sebelumnya')\n",
        "axes[1, 1].set_ylabel('Jumlah')\n",
        "for p in axes[1, 1].patches:\n",
        "    if p.get_height() > 0:\n",
        "        axes[1, 1].annotate(str(int(p.get_height())), (p.get_x() + p.get_width() / 2., p.get_height()), ha='center', va='center', xytext=(0, 8), textcoords='offset points')\n",
        "\n",
        "# Attrition berdasarkan Employee Engagement Score\n",
        "sns.countplot(x='EmployeeEngagementScore', hue='Attrition', data=data_karyawan, palette=colors, ax=axes[0, 1])\n",
        "axes[0, 1].set_title('Attrition berdasarkan Employee Engagement Score')\n",
        "axes[0, 1].set_xlabel('Employee Engagement')\n",
        "axes[0, 1].set_ylabel('Jumlah')\n",
        "for p in axes[0, 1].patches:\n",
        "    if p.get_height() > 0:\n",
        "        axes[0, 1].annotate(str(int(p.get_height())), (p.get_x() + p.get_width() / 2., p.get_height()), ha='center', va='center', xytext=(0, 8), textcoords='offset points')\n",
        "\n",
        "# Attrition berdasarkan Performance Satisfaction Index\n",
        "sns.countplot(x='PerformanceSatisfactionIndex', hue='Attrition', data=data_karyawan, palette=colors, ax=axes[1, 0])\n",
        "axes[1, 0].set_title('Attrition berdasarkan Performance Satisfaction Index')\n",
        "axes[1, 0].set_xlabel('Employee Satisfaction')\n",
        "axes[1, 0].set_ylabel('Jumlah')\n",
        "for p in axes[1, 0].patches:\n",
        "    if p.get_height() > 0:\n",
        "        axes[1, 0].annotate(str(int(p.get_height())), (p.get_x() + p.get_width() / 2., p.get_height()), ha='center', va='center', xytext=(0, 8), textcoords='offset points')\n",
        "\n",
        "# Attrition berdasarkan Kenaikan Gaji (%)\n",
        "sns.countplot(x='PercentSalaryHike', hue='Attrition', data=data_karyawan, palette=colors, ax=axes[2, 0])\n",
        "axes[2, 0].set_title('Attrition berdasarkan Kenaikan Gaji (%)')\n",
        "axes[2, 0].set_xlabel('Kenaikan Gaji (%)')\n",
        "axes[2, 0].set_ylabel('Jumlah')\n",
        "for p in axes[2, 0].patches:\n",
        "    if p.get_height() > 0:\n",
        "        axes[2, 0].annotate(str(int(p.get_height())), (p.get_x() + p.get_width() / 2., p.get_height()), ha='center', va='center', xytext=(0, 8), textcoords='offset points')\n",
        "\n",
        "# Attrition berdasarkan Tahun Sejak Promosi Terakhir\n",
        "sns.countplot(x='YearsSinceLastPromotion', hue='Attrition', data=data_karyawan, palette=colors, ax=axes[2, 1])\n",
        "axes[2, 1].set_title('Attrition berdasarkan Tahun Sejak Promosi')\n",
        "axes[2, 1].set_xlabel('Tahun Sejak Promosi')\n",
        "axes[2, 1].set_ylabel('Jumlah')\n",
        "for p in axes[2, 1].patches:\n",
        "    if p.get_height() > 0:\n",
        "        axes[2, 1].annotate(str(int(p.get_height())), (p.get_x() + p.get_width() / 2., p.get_height()), ha='center', va='center', xytext=(0, 8), textcoords='offset points')\n",
        "\n",
        "# Tata letak\n",
        "plt.tight_layout()\n",
        "plt.show()\n"
      ]
    },
    {
      "cell_type": "markdown",
      "metadata": {
        "id": "0yxpk2tE17en"
      },
      "source": [
        "## Modeling"
      ]
    },
    {
      "cell_type": "code",
      "execution_count": 38,
      "metadata": {
        "colab": {
          "base_uri": "https://localhost:8080/",
          "height": 313
        },
        "id": "G_Lgv36r17ep",
        "outputId": "846cd49e-982f-4e33-f44b-9a6ae4dbd9fc"
      },
      "outputs": [
        {
          "data": {
            "text/html": [
              "<div>\n",
              "<style scoped>\n",
              "    .dataframe tbody tr th:only-of-type {\n",
              "        vertical-align: middle;\n",
              "    }\n",
              "\n",
              "    .dataframe tbody tr th {\n",
              "        vertical-align: top;\n",
              "    }\n",
              "\n",
              "    .dataframe thead th {\n",
              "        text-align: right;\n",
              "    }\n",
              "</style>\n",
              "<table border=\"1\" class=\"dataframe\">\n",
              "  <thead>\n",
              "    <tr style=\"text-align: right;\">\n",
              "      <th></th>\n",
              "      <th>AgeGeneration</th>\n",
              "      <th>BusinessTravel</th>\n",
              "      <th>Department</th>\n",
              "      <th>DistanceFromHomeCategory</th>\n",
              "      <th>Education</th>\n",
              "      <th>EducationField</th>\n",
              "      <th>EmployeeEngagementScore</th>\n",
              "      <th>ExperiencePriorToCurrentJob</th>\n",
              "      <th>Gender</th>\n",
              "      <th>JobLevel</th>\n",
              "      <th>JobRole</th>\n",
              "      <th>MaritalStatus</th>\n",
              "      <th>OverTime</th>\n",
              "      <th>PerformanceSatisfactionIndex</th>\n",
              "    </tr>\n",
              "  </thead>\n",
              "  <tbody>\n",
              "    <tr>\n",
              "      <th>0</th>\n",
              "      <td>Millennials</td>\n",
              "      <td>Travel_Frequently</td>\n",
              "      <td>Human Resources</td>\n",
              "      <td>Short Distance</td>\n",
              "      <td>Master</td>\n",
              "      <td>Other</td>\n",
              "      <td>Better</td>\n",
              "      <td>Junior</td>\n",
              "      <td>Male</td>\n",
              "      <td>Staff</td>\n",
              "      <td>Human Resources</td>\n",
              "      <td>Married</td>\n",
              "      <td>Yes</td>\n",
              "      <td>Medium</td>\n",
              "    </tr>\n",
              "    <tr>\n",
              "      <th>1</th>\n",
              "      <td>Millennials</td>\n",
              "      <td>Travel_Rarely</td>\n",
              "      <td>Research &amp; Development</td>\n",
              "      <td>Medium Distance</td>\n",
              "      <td>College</td>\n",
              "      <td>Medical</td>\n",
              "      <td>Bad</td>\n",
              "      <td>Senior</td>\n",
              "      <td>Female</td>\n",
              "      <td>Junior Supervisor</td>\n",
              "      <td>Healthcare Representative</td>\n",
              "      <td>Married</td>\n",
              "      <td>No</td>\n",
              "      <td>Low</td>\n",
              "    </tr>\n",
              "    <tr>\n",
              "      <th>2</th>\n",
              "      <td>Gen X</td>\n",
              "      <td>Travel_Rarely</td>\n",
              "      <td>Research &amp; Development</td>\n",
              "      <td>Short Distance</td>\n",
              "      <td>Master</td>\n",
              "      <td>Life Sciences</td>\n",
              "      <td>Better</td>\n",
              "      <td>Mid-level</td>\n",
              "      <td>Male</td>\n",
              "      <td>Staff</td>\n",
              "      <td>Research Scientist</td>\n",
              "      <td>Married</td>\n",
              "      <td>Yes</td>\n",
              "      <td>Medium</td>\n",
              "    </tr>\n",
              "    <tr>\n",
              "      <th>3</th>\n",
              "      <td>Gen Y</td>\n",
              "      <td>Travel_Frequently</td>\n",
              "      <td>Sales</td>\n",
              "      <td>Long Distance</td>\n",
              "      <td>Bachelor</td>\n",
              "      <td>Marketing</td>\n",
              "      <td>Better</td>\n",
              "      <td>Junior</td>\n",
              "      <td>Female</td>\n",
              "      <td>Junior Manager</td>\n",
              "      <td>Sales Executive</td>\n",
              "      <td>Married</td>\n",
              "      <td>No</td>\n",
              "      <td>High</td>\n",
              "    </tr>\n",
              "    <tr>\n",
              "      <th>4</th>\n",
              "      <td>Millennials</td>\n",
              "      <td>Travel_Rarely</td>\n",
              "      <td>Research &amp; Development</td>\n",
              "      <td>Short Distance</td>\n",
              "      <td>Master</td>\n",
              "      <td>Medical</td>\n",
              "      <td>Better</td>\n",
              "      <td>Senior</td>\n",
              "      <td>Female</td>\n",
              "      <td>Staff</td>\n",
              "      <td>Research Scientist</td>\n",
              "      <td>Married</td>\n",
              "      <td>No</td>\n",
              "      <td>Medium</td>\n",
              "    </tr>\n",
              "  </tbody>\n",
              "</table>\n",
              "</div>"
            ],
            "text/plain": [
              "  AgeGeneration     BusinessTravel              Department  \\\n",
              "0   Millennials  Travel_Frequently         Human Resources   \n",
              "1   Millennials      Travel_Rarely  Research & Development   \n",
              "2         Gen X      Travel_Rarely  Research & Development   \n",
              "3         Gen Y  Travel_Frequently                   Sales   \n",
              "4   Millennials      Travel_Rarely  Research & Development   \n",
              "\n",
              "  DistanceFromHomeCategory Education EducationField EmployeeEngagementScore  \\\n",
              "0           Short Distance    Master          Other                  Better   \n",
              "1          Medium Distance   College        Medical                     Bad   \n",
              "2           Short Distance    Master  Life Sciences                  Better   \n",
              "3            Long Distance  Bachelor      Marketing                  Better   \n",
              "4           Short Distance    Master        Medical                  Better   \n",
              "\n",
              "  ExperiencePriorToCurrentJob  Gender           JobLevel  \\\n",
              "0                      Junior    Male              Staff   \n",
              "1                      Senior  Female  Junior Supervisor   \n",
              "2                   Mid-level    Male              Staff   \n",
              "3                      Junior  Female     Junior Manager   \n",
              "4                      Senior  Female              Staff   \n",
              "\n",
              "                     JobRole MaritalStatus OverTime  \\\n",
              "0            Human Resources       Married      Yes   \n",
              "1  Healthcare Representative       Married       No   \n",
              "2         Research Scientist       Married      Yes   \n",
              "3            Sales Executive       Married       No   \n",
              "4         Research Scientist       Married       No   \n",
              "\n",
              "  PerformanceSatisfactionIndex  \n",
              "0                       Medium  \n",
              "1                          Low  \n",
              "2                       Medium  \n",
              "3                         High  \n",
              "4                       Medium  "
            ]
          },
          "execution_count": 38,
          "metadata": {},
          "output_type": "execute_result"
        }
      ],
      "source": [
        "# Filter fitur kategorikal\n",
        "category_cols = data_karyawan.select_dtypes(exclude=['int32','int64','float32','float64'])\n",
        "category_cols.head()"
      ]
    },
    {
      "cell_type": "code",
      "execution_count": 39,
      "metadata": {
        "colab": {
          "base_uri": "https://localhost:8080/",
          "height": 523
        },
        "id": "5vQmaBCIcrFD",
        "outputId": "a397a427-6822-4759-fd69-7e5fb4d7cddf"
      },
      "outputs": [
        {
          "data": {
            "text/plain": [
              "AgeGeneration                   4\n",
              "BusinessTravel                  3\n",
              "Department                      3\n",
              "DistanceFromHomeCategory        3\n",
              "Education                       5\n",
              "EducationField                  6\n",
              "EmployeeEngagementScore         4\n",
              "ExperiencePriorToCurrentJob     5\n",
              "Gender                          2\n",
              "JobLevel                        5\n",
              "JobRole                         9\n",
              "MaritalStatus                   3\n",
              "OverTime                        2\n",
              "PerformanceSatisfactionIndex    4\n",
              "dtype: int64"
            ]
          },
          "execution_count": 39,
          "metadata": {},
          "output_type": "execute_result"
        }
      ],
      "source": [
        "# Menghitung jumlah nilai unik dari setiap kolom kategorikal\n",
        "# Ini berguna untuk mengetahui berapa banyak kategori berbeda di setiap fitur\n",
        "category_cols.nunique()"
      ]
    },
    {
      "cell_type": "code",
      "execution_count": 40,
      "metadata": {
        "id": "96S_yzrKdmsA"
      },
      "outputs": [],
      "source": [
        "# Inisialisasi LabelEncoder\n",
        "label_encoder = LabelEncoder()\n",
        "\n",
        "# Daftar kolom kategorikal yang ingin dikodekan (diubah menjadi numerik)\n",
        "columns_to_encode = [\n",
        "    'Attrition', 'OverTime', 'AgeGeneration', 'BusinessTravel', 'Department',\n",
        "    'DistanceFromHomeCategory', 'Education', 'EducationField',\n",
        "    'EmployeeEngagementScore', 'MaritalStatus', 'ExperiencePriorToCurrentJob',\n",
        "    'JobLevel', 'JobRole', 'Gender', 'PerformanceSatisfactionIndex'\n",
        "]\n",
        "\n",
        "# Melakukan label encoding pada setiap kolom kategorikal\n",
        "for column in columns_to_encode:\n",
        "    data_karyawan[column] = label_encoder.fit_transform(data_karyawan[column])"
      ]
    },
    {
      "cell_type": "code",
      "execution_count": 41,
      "metadata": {
        "colab": {
          "base_uri": "https://localhost:8080/",
          "height": 256
        },
        "id": "cYDqAwsyfdzU",
        "outputId": "76cedc1b-ae3a-4b72-ac9f-3d6248691643"
      },
      "outputs": [
        {
          "data": {
            "text/html": [
              "<div>\n",
              "<style scoped>\n",
              "    .dataframe tbody tr th:only-of-type {\n",
              "        vertical-align: middle;\n",
              "    }\n",
              "\n",
              "    .dataframe tbody tr th {\n",
              "        vertical-align: top;\n",
              "    }\n",
              "\n",
              "    .dataframe thead th {\n",
              "        text-align: right;\n",
              "    }\n",
              "</style>\n",
              "<table border=\"1\" class=\"dataframe\">\n",
              "  <thead>\n",
              "    <tr style=\"text-align: right;\">\n",
              "      <th></th>\n",
              "      <th>AgeGeneration</th>\n",
              "      <th>Attrition</th>\n",
              "      <th>BusinessTravel</th>\n",
              "      <th>DailyRate</th>\n",
              "      <th>Department</th>\n",
              "      <th>DistanceFromHomeCategory</th>\n",
              "      <th>Education</th>\n",
              "      <th>EducationField</th>\n",
              "      <th>EmployeeEngagementScore</th>\n",
              "      <th>EmployeeId</th>\n",
              "      <th>...</th>\n",
              "      <th>JobRole</th>\n",
              "      <th>MaritalStatus</th>\n",
              "      <th>MonthlyIncome</th>\n",
              "      <th>MonthlyRate</th>\n",
              "      <th>NumCompaniesWorked</th>\n",
              "      <th>OverTime</th>\n",
              "      <th>PercentSalaryHike</th>\n",
              "      <th>PerformanceSatisfactionIndex</th>\n",
              "      <th>StockOptionLevel</th>\n",
              "      <th>TrainingTimesLastYear</th>\n",
              "    </tr>\n",
              "  </thead>\n",
              "  <tbody>\n",
              "    <tr>\n",
              "      <th>0</th>\n",
              "      <td>3</td>\n",
              "      <td>0</td>\n",
              "      <td>1</td>\n",
              "      <td>1444</td>\n",
              "      <td>0</td>\n",
              "      <td>2</td>\n",
              "      <td>4</td>\n",
              "      <td>4</td>\n",
              "      <td>2</td>\n",
              "      <td>1</td>\n",
              "      <td>...</td>\n",
              "      <td>1</td>\n",
              "      <td>1</td>\n",
              "      <td>2991</td>\n",
              "      <td>5224</td>\n",
              "      <td>0</td>\n",
              "      <td>1</td>\n",
              "      <td>11</td>\n",
              "      <td>2</td>\n",
              "      <td>1</td>\n",
              "      <td>2</td>\n",
              "    </tr>\n",
              "    <tr>\n",
              "      <th>1</th>\n",
              "      <td>3</td>\n",
              "      <td>1</td>\n",
              "      <td>2</td>\n",
              "      <td>1141</td>\n",
              "      <td>1</td>\n",
              "      <td>1</td>\n",
              "      <td>2</td>\n",
              "      <td>3</td>\n",
              "      <td>0</td>\n",
              "      <td>2</td>\n",
              "      <td>...</td>\n",
              "      <td>0</td>\n",
              "      <td>1</td>\n",
              "      <td>4777</td>\n",
              "      <td>14382</td>\n",
              "      <td>5</td>\n",
              "      <td>0</td>\n",
              "      <td>15</td>\n",
              "      <td>1</td>\n",
              "      <td>0</td>\n",
              "      <td>2</td>\n",
              "    </tr>\n",
              "    <tr>\n",
              "      <th>2</th>\n",
              "      <td>0</td>\n",
              "      <td>1</td>\n",
              "      <td>2</td>\n",
              "      <td>1323</td>\n",
              "      <td>1</td>\n",
              "      <td>2</td>\n",
              "      <td>4</td>\n",
              "      <td>1</td>\n",
              "      <td>2</td>\n",
              "      <td>3</td>\n",
              "      <td>...</td>\n",
              "      <td>6</td>\n",
              "      <td>1</td>\n",
              "      <td>2461</td>\n",
              "      <td>10332</td>\n",
              "      <td>9</td>\n",
              "      <td>1</td>\n",
              "      <td>12</td>\n",
              "      <td>2</td>\n",
              "      <td>3</td>\n",
              "      <td>2</td>\n",
              "    </tr>\n",
              "    <tr>\n",
              "      <th>3</th>\n",
              "      <td>1</td>\n",
              "      <td>0</td>\n",
              "      <td>1</td>\n",
              "      <td>555</td>\n",
              "      <td>2</td>\n",
              "      <td>0</td>\n",
              "      <td>0</td>\n",
              "      <td>2</td>\n",
              "      <td>2</td>\n",
              "      <td>4</td>\n",
              "      <td>...</td>\n",
              "      <td>7</td>\n",
              "      <td>1</td>\n",
              "      <td>13525</td>\n",
              "      <td>14864</td>\n",
              "      <td>5</td>\n",
              "      <td>0</td>\n",
              "      <td>14</td>\n",
              "      <td>0</td>\n",
              "      <td>1</td>\n",
              "      <td>2</td>\n",
              "    </tr>\n",
              "    <tr>\n",
              "      <th>4</th>\n",
              "      <td>3</td>\n",
              "      <td>0</td>\n",
              "      <td>2</td>\n",
              "      <td>1194</td>\n",
              "      <td>1</td>\n",
              "      <td>2</td>\n",
              "      <td>4</td>\n",
              "      <td>3</td>\n",
              "      <td>2</td>\n",
              "      <td>5</td>\n",
              "      <td>...</td>\n",
              "      <td>6</td>\n",
              "      <td>1</td>\n",
              "      <td>2001</td>\n",
              "      <td>12549</td>\n",
              "      <td>2</td>\n",
              "      <td>0</td>\n",
              "      <td>14</td>\n",
              "      <td>2</td>\n",
              "      <td>3</td>\n",
              "      <td>2</td>\n",
              "    </tr>\n",
              "  </tbody>\n",
              "</table>\n",
              "<p>5 rows × 24 columns</p>\n",
              "</div>"
            ],
            "text/plain": [
              "   AgeGeneration  Attrition  BusinessTravel  DailyRate  Department  \\\n",
              "0              3          0               1       1444           0   \n",
              "1              3          1               2       1141           1   \n",
              "2              0          1               2       1323           1   \n",
              "3              1          0               1        555           2   \n",
              "4              3          0               2       1194           1   \n",
              "\n",
              "   DistanceFromHomeCategory  Education  EducationField  \\\n",
              "0                         2          4               4   \n",
              "1                         1          2               3   \n",
              "2                         2          4               1   \n",
              "3                         0          0               2   \n",
              "4                         2          4               3   \n",
              "\n",
              "   EmployeeEngagementScore  EmployeeId  ...  JobRole  MaritalStatus  \\\n",
              "0                        2           1  ...        1              1   \n",
              "1                        0           2  ...        0              1   \n",
              "2                        2           3  ...        6              1   \n",
              "3                        2           4  ...        7              1   \n",
              "4                        2           5  ...        6              1   \n",
              "\n",
              "   MonthlyIncome  MonthlyRate  NumCompaniesWorked  OverTime  \\\n",
              "0           2991         5224                   0         1   \n",
              "1           4777        14382                   5         0   \n",
              "2           2461        10332                   9         1   \n",
              "3          13525        14864                   5         0   \n",
              "4           2001        12549                   2         0   \n",
              "\n",
              "   PercentSalaryHike  PerformanceSatisfactionIndex  StockOptionLevel  \\\n",
              "0                 11                             2                 1   \n",
              "1                 15                             1                 0   \n",
              "2                 12                             2                 3   \n",
              "3                 14                             0                 1   \n",
              "4                 14                             2                 3   \n",
              "\n",
              "   TrainingTimesLastYear  \n",
              "0                      2  \n",
              "1                      2  \n",
              "2                      2  \n",
              "3                      2  \n",
              "4                      2  \n",
              "\n",
              "[5 rows x 24 columns]"
            ]
          },
          "execution_count": 41,
          "metadata": {},
          "output_type": "execute_result"
        }
      ],
      "source": [
        "# Menghapus kolom yang berkaitan dengan pengalaman kerja terakhir dan hubungan dengan manajer\n",
        "# Kolom yang dihapus:\n",
        "# - 'YearsInCurrentRole'              : jumlah tahun dalam peran saat ini\n",
        "# - 'YearsSinceLastPromotion'         : tahun sejak terakhir kali promosi\n",
        "# - 'YearsWithCurrManager'            : tahun bekerja dengan manajer saat ini\n",
        "emp_df = data_karyawan.drop(['YearsInCurrentRole', 'YearsSinceLastPromotion', 'YearsWithCurrManager'], axis=1)\n",
        "\n",
        "# Menampilkan 5 baris pertama dari DataFrame hasil\n",
        "emp_df.head()"
      ]
    },
    {
      "cell_type": "code",
      "execution_count": 42,
      "metadata": {
        "id": "uA9p-TopgGOD"
      },
      "outputs": [],
      "source": [
        "# Memisahkan fitur (X) dan target (y) dari data_karyawan yang telah dibersihkan (emp_df)\n",
        "\n",
        "# X berisi semua kolom kecuali 'Attrition', dan dikonversi menjadi array NumPy\n",
        "X = np.array(emp_df.drop(['Attrition'], axis=1))\n",
        "\n",
        "# y berisi kolom target 'Attrition' dalam bentuk array NumPy\n",
        "y = np.array(emp_df['Attrition'])\n"
      ]
    },
    {
      "cell_type": "code",
      "execution_count": 43,
      "metadata": {
        "colab": {
          "base_uri": "https://localhost:8080/"
        },
        "id": "WDm_YP-qgG0l",
        "outputId": "82202971-9470-429e-c27c-19e6577ee3f7"
      },
      "outputs": [
        {
          "name": "stdout",
          "output_type": "stream",
          "text": [
            "(1176, 23)\n",
            "(294, 23)\n"
          ]
        }
      ],
      "source": [
        "# Membagi data menjadi data latih dan data uji\n",
        "# - test_size=0.2 artinya 20% data digunakan untuk pengujian, 80% untuk pelatihan\n",
        "# - random_state=42 memastikan pembagian data konsisten setiap kali dijalankan\n",
        "X_train, X_test, y_train, y_test = train_test_split(X, y, random_state=42, test_size=0.2)\n",
        "\n",
        "# Menampilkan dimensi data latih dan data uji\n",
        "print(X_train.shape)  # Jumlah baris dan kolom pada data latih\n",
        "print(X_test.shape)   # Jumlah baris dan kolom pada data uji\n"
      ]
    },
    {
      "cell_type": "code",
      "execution_count": 44,
      "metadata": {
        "id": "M9yrSPtAhb0I"
      },
      "outputs": [],
      "source": [
        "# Inisialisasi StandardScaler\n",
        "scaler = StandardScaler()\n",
        "\n",
        "# Melakukan fitting dan transformasi pada data latih\n",
        "# - Menghitung mean dan standar deviasi dari X_train, lalu mentransformasikannya agar memiliki distribusi normal (mean=0, std=1)\n",
        "X_train = scaler.fit_transform(X_train)\n",
        "\n",
        "# Menggunakan parameter dari fit X_train untuk mentransformasi data uji (X_test)\n",
        "X_test = scaler.transform(X_test)\n"
      ]
    },
    {
      "cell_type": "markdown",
      "metadata": {
        "id": "0Hby8LUVh8ni"
      },
      "source": [
        "### Model Logistic Regression"
      ]
    },
    {
      "cell_type": "code",
      "execution_count": 45,
      "metadata": {
        "colab": {
          "base_uri": "https://localhost:8080/"
        },
        "id": "jmz9jUHYh_eM",
        "outputId": "1b73a86f-c91a-40a0-8f01-25d111697b16"
      },
      "outputs": [
        {
          "name": "stderr",
          "output_type": "stream",
          "text": [
            "d:\\DS-Expert\\hr_jjm\\Lib\\site-packages\\sklearn\\linear_model\\_logistic.py:1247: FutureWarning: 'multi_class' was deprecated in version 1.5 and will be removed in 1.7. From then on, it will always use 'multinomial'. Leave it to its default value to avoid this warning.\n",
            "  warnings.warn(\n"
          ]
        },
        {
          "name": "stdout",
          "output_type": "stream",
          "text": [
            "Parameter terbaik: {'C': 0.1, 'max_iter': 100, 'multi_class': 'auto', 'solver': 'lbfgs'}\n",
            "Skor akurasi data uji dari Logistic Regression adalah 0.9013605442176871\n"
          ]
        }
      ],
      "source": [
        "# Inisialisasi klasifikator Logistic Regression\n",
        "clf_lr = LogisticRegression()\n",
        "\n",
        "# Definisikan grid hyperparameter\n",
        "param_grid1 = {\n",
        "    'C' :[0.1, 1, 10, 100],\n",
        "    'max_iter': [100, 150, 200, 300],\n",
        "    'multi_class': ['auto'],\n",
        "    'solver': ['lbfgs', 'liblinear', 'newton-cg', 'sag', 'saga']\n",
        "}\n",
        "\n",
        "# Inisialisasi GridSearchCV\n",
        "gs1 = GridSearchCV(\n",
        "    estimator=clf_lr,\n",
        "    param_grid=param_grid1,\n",
        "    cv=5,\n",
        "    n_jobs=-1,\n",
        "    scoring='accuracy'\n",
        ")\n",
        "\n",
        "# Latih klasifikator menggunakan GridSearchCV\n",
        "clf_lr_grid = gs1.fit(X_train, y_train)\n",
        "\n",
        "# Lakukan prediksi pada data uji\n",
        "y_pred = clf_lr_grid.predict(X_test)\n",
        "\n",
        "# Cetak parameter terbaik yang ditemukan oleh GridSearchCV\n",
        "print(\"Parameter terbaik:\", clf_lr_grid.best_params_)\n",
        "\n",
        "# Hitung dan cetak akurasi pada data uji\n",
        "test_accuracy = accuracy_score(y_test, y_pred)\n",
        "print(\"Skor akurasi data uji dari Logistic Regression adalah\", test_accuracy)\n"
      ]
    },
    {
      "cell_type": "markdown",
      "metadata": {
        "id": "3jqdDzqmjw-D"
      },
      "source": [
        "### Model K Nearest Neighbors"
      ]
    },
    {
      "cell_type": "code",
      "execution_count": 46,
      "metadata": {
        "colab": {
          "base_uri": "https://localhost:8080/"
        },
        "id": "J4VSaTPdj0Qe",
        "outputId": "bd702b2e-d0a4-4656-bf53-18a4ce52ac47"
      },
      "outputs": [
        {
          "name": "stdout",
          "output_type": "stream",
          "text": [
            "Parameter terbaik: {'metric': 'manhattan', 'n_neighbors': 7, 'weights': 'uniform'}\n",
            "Skor akurasi data uji dari K-Nearest Neighbors Classifier adalah 0.8945578231292517\n"
          ]
        }
      ],
      "source": [
        "# Inisialisasi KNeighborsClassifier\n",
        "clf_knn = KNeighborsClassifier()\n",
        "\n",
        "# Definisikan grid hyperparameter\n",
        "param_grid1 = {\n",
        "    'n_neighbors': [3, 5, 7],\n",
        "    'weights': ['uniform', 'distance'],\n",
        "    'metric': ['euclidean', 'manhattan']\n",
        "}\n",
        "\n",
        "# Inisialisasi GridSearchCV\n",
        "gs1 = GridSearchCV(\n",
        "    estimator=clf_knn,\n",
        "    param_grid=param_grid1,\n",
        "    cv=5,\n",
        "    scoring='accuracy'\n",
        ")\n",
        "\n",
        "# Latih klasifikator menggunakan GridSearchCV\n",
        "clf_knn_grid = gs1.fit(X_train, y_train)\n",
        "\n",
        "# Lakukan prediksi pada data uji\n",
        "y_pred = clf_knn_grid.predict(X_test)\n",
        "\n",
        "# Cetak parameter terbaik yang ditemukan oleh GridSearchCV\n",
        "print(\"Parameter terbaik:\", clf_knn_grid.best_params_)\n",
        "\n",
        "# Hitung dan cetak akurasi pada data uji\n",
        "test_accuracy = accuracy_score(y_test, y_pred)\n",
        "print(\"Skor akurasi data uji dari K-Nearest Neighbors Classifier adalah\", test_accuracy)\n"
      ]
    },
    {
      "cell_type": "markdown",
      "metadata": {
        "id": "YTGhCoUyj73Z"
      },
      "source": [
        "### Model Naive Bayes"
      ]
    },
    {
      "cell_type": "code",
      "execution_count": 47,
      "metadata": {
        "colab": {
          "base_uri": "https://localhost:8080/"
        },
        "id": "0H75ST-AnPgK",
        "outputId": "f228822d-4b62-4368-8ea3-2a6ba69dab98"
      },
      "outputs": [
        {
          "name": "stdout",
          "output_type": "stream",
          "text": [
            "Parameter terbaik: {'priors': None, 'var_smoothing': 1e-09}\n",
            "Skor akurasi data uji dari Gaussian Naive Bayes Classifier adalah 0.8775510204081632\n"
          ]
        }
      ],
      "source": [
        "# Inisialisasi klasifikator Gaussian Naive Bayes\n",
        "clf_nb = GaussianNB()\n",
        "\n",
        "# Definisikan grid hyperparameter\n",
        "param_grid1 = {\n",
        "    'var_smoothing': [1e-9, 1e-8, 1e-7, 1e-6],\n",
        "    'priors': [None, [0.1, 0.9], [0.5, 0.5]]\n",
        "}\n",
        "\n",
        "# Inisialisasi GridSearchCV\n",
        "gs1 = GridSearchCV(\n",
        "    estimator=clf_nb,\n",
        "    param_grid=param_grid1,\n",
        "    cv=5,\n",
        "    scoring='accuracy'\n",
        ")\n",
        "\n",
        "# Latih klasifikator menggunakan GridSearchCV\n",
        "clf_nb_grid = gs1.fit(X_train, y_train)\n",
        "\n",
        "# Lakukan prediksi pada data uji\n",
        "y_pred = clf_nb_grid.predict(X_test)\n",
        "\n",
        "# Cetak parameter terbaik yang ditemukan oleh GridSearchCV\n",
        "print(\"Parameter terbaik:\", clf_nb_grid.best_params_)\n",
        "\n",
        "# Hitung dan cetak akurasi pada data uji\n",
        "print(\"Skor akurasi data uji dari Gaussian Naive Bayes Classifier adalah\", accuracy_score(y_test, y_pred))\n"
      ]
    },
    {
      "cell_type": "markdown",
      "metadata": {
        "id": "Oh9AL61ej8pF"
      },
      "source": [
        "### Model SVM Classifier"
      ]
    },
    {
      "cell_type": "code",
      "execution_count": 48,
      "metadata": {
        "colab": {
          "base_uri": "https://localhost:8080/"
        },
        "id": "8lhnrvD-nUwp",
        "outputId": "c04f467d-dad8-4a0b-db97-90285414b2ba"
      },
      "outputs": [
        {
          "name": "stdout",
          "output_type": "stream",
          "text": [
            "Parameter terbaik: {'C': 0.1, 'gamma': 0.1, 'kernel': 'linear'}\n",
            "Skor akurasi data uji dari Support Vector Machine Classifier adalah 0.891156462585034\n"
          ]
        }
      ],
      "source": [
        "# Inisialisasi klasifikator SVM (Support Vector Machine)\n",
        "clf_svm = SVC(probability=True)\n",
        "\n",
        "# Definisikan grid hyperparameter\n",
        "param_grid1 = {\n",
        "    'C': [0.1, 1, 10, 100],\n",
        "    'kernel': ['linear', 'rbf'],\n",
        "    'gamma': [0.1, 1, 'scale']\n",
        "}\n",
        "\n",
        "# Inisialisasi GridSearchCV\n",
        "gs1 = GridSearchCV(\n",
        "    estimator=clf_svm,\n",
        "    param_grid=param_grid1,\n",
        "    cv=5,\n",
        "    scoring='accuracy'\n",
        ")\n",
        "\n",
        "# Latih klasifikator menggunakan GridSearchCV\n",
        "clf_svm_grid = gs1.fit(X_train, y_train)\n",
        "\n",
        "# Lakukan prediksi pada data uji\n",
        "y_pred = clf_svm_grid.predict(X_test)\n",
        "\n",
        "# Cetak parameter terbaik yang ditemukan oleh GridSearchCV\n",
        "print(\"Parameter terbaik:\", clf_svm_grid.best_params_)\n",
        "\n",
        "# Hitung dan cetak akurasi pada data uji\n",
        "test_accuracy = accuracy_score(y_test, y_pred)\n",
        "print(\"Skor akurasi data uji dari Support Vector Machine Classifier adalah\", test_accuracy)\n"
      ]
    },
    {
      "cell_type": "markdown",
      "metadata": {
        "id": "L1YRj1Dwj90r"
      },
      "source": [
        "### Model Decision Tree"
      ]
    },
    {
      "cell_type": "code",
      "execution_count": 49,
      "metadata": {
        "colab": {
          "base_uri": "https://localhost:8080/"
        },
        "id": "UwMH7Gg1p732",
        "outputId": "7dd90320-9305-49fb-ef39-a8bb8bcfbf6e"
      },
      "outputs": [
        {
          "name": "stdout",
          "output_type": "stream",
          "text": [
            "Parameter terbaik: {'criterion': 'gini', 'max_depth': 1, 'min_samples_leaf': 1}\n",
            "Skor akurasi data uji dari Decision Tree Classifier adalah 0.891156462585034\n"
          ]
        }
      ],
      "source": [
        "# Inisialisasi klasifikator Decision Tree\n",
        "clf_dt = DecisionTreeClassifier()\n",
        "\n",
        "# Definisikan grid hyperparameter\n",
        "param_grid1 = {\n",
        "    'min_samples_leaf': [1, 10, 100],\n",
        "    'max_depth': [1, 10, 20, 30],\n",
        "    'criterion': ['gini', 'entropy']\n",
        "}\n",
        "\n",
        "# Inisialisasi GridSearchCV\n",
        "gs1 = GridSearchCV(\n",
        "    estimator=clf_dt,\n",
        "    param_grid=param_grid1,\n",
        "    cv=5,\n",
        "    n_jobs=-1,\n",
        "    scoring='accuracy'\n",
        ")\n",
        "\n",
        "# Latih klasifikator menggunakan GridSearchCV\n",
        "clf_dt_grid = gs1.fit(X_train, y_train)\n",
        "\n",
        "# Lakukan prediksi pada data uji\n",
        "y_pred = clf_dt_grid.predict(X_test)\n",
        "\n",
        "# Cetak parameter terbaik yang ditemukan oleh GridSearchCV\n",
        "print(\"Parameter terbaik:\", clf_dt_grid.best_params_)\n",
        "\n",
        "# Hitung dan cetak akurasi pada data uji\n",
        "test_accuracy = accuracy_score(y_test, y_pred)\n",
        "print(\"Skor akurasi data uji dari Decision Tree Classifier adalah\", test_accuracy)\n"
      ]
    },
    {
      "cell_type": "markdown",
      "metadata": {
        "id": "iD1x8iXhk17l"
      },
      "source": [
        "### Model Random Forest"
      ]
    },
    {
      "cell_type": "code",
      "execution_count": 50,
      "metadata": {
        "colab": {
          "base_uri": "https://localhost:8080/"
        },
        "id": "66Fp3yqAqxFd",
        "outputId": "79a24e3b-a90c-4487-a462-47f4e19e0393"
      },
      "outputs": [
        {
          "name": "stdout",
          "output_type": "stream",
          "text": [
            "Parameter terbaik: {'criterion': 'gini', 'max_depth': 9, 'n_estimators': 100}\n",
            "Skor akurasi data uji dari Random Forest Classifier adalah 0.8945578231292517\n"
          ]
        }
      ],
      "source": [
        "# Inisialisasi klasifikator Random Forest\n",
        "clf_rf = RandomForestClassifier()\n",
        "\n",
        "# Definisikan grid hyperparameter\n",
        "param_grid1 = {\n",
        "    'n_estimators': [100, 200, 300, 400],\n",
        "    'max_depth': [3, 5, 7, 9],\n",
        "    'criterion': ['gini', 'entropy']\n",
        "}\n",
        "\n",
        "# Inisialisasi GridSearchCV\n",
        "gs1 = GridSearchCV(\n",
        "    estimator=clf_rf,\n",
        "    param_grid=param_grid1,\n",
        "    cv=5,\n",
        "    n_jobs=-1,\n",
        "    scoring='accuracy'\n",
        ")\n",
        "\n",
        "# Latih klasifikator menggunakan GridSearchCV\n",
        "clf_rf_grid = gs1.fit(X_train, y_train)\n",
        "\n",
        "# Lakukan prediksi pada data uji\n",
        "y_pred = clf_rf_grid.predict(X_test)\n",
        "\n",
        "# Cetak parameter terbaik yang ditemukan oleh GridSearchCV\n",
        "print(\"Parameter terbaik:\", clf_rf_grid.best_params_)\n",
        "\n",
        "# Hitung dan cetak akurasi pada data uji\n",
        "test_accuracy = accuracy_score(y_test, y_pred)\n",
        "print(\"Skor akurasi data uji dari Random Forest Classifier adalah\", test_accuracy)\n"
      ]
    },
    {
      "cell_type": "markdown",
      "metadata": {
        "id": "dB0oak-gkpuT"
      },
      "source": [
        "### Model MLP Classifier"
      ]
    },
    {
      "cell_type": "code",
      "execution_count": 51,
      "metadata": {
        "colab": {
          "base_uri": "https://localhost:8080/"
        },
        "id": "BJpIf7VDsicA",
        "outputId": "948e3bfd-1347-40b4-e046-33439b7bbf8d"
      },
      "outputs": [
        {
          "name": "stdout",
          "output_type": "stream",
          "text": [
            "Parameter terbaik: {'activation': 'tanh', 'hidden_layer_sizes': (1,), 'solver': 'adam'}\n",
            "Skor akurasi data uji dari MLP Classifier adalah 0.891156462585034\n"
          ]
        }
      ],
      "source": [
        "# Inisialisasi klasifikator MLP (Multi-Layer Perceptron)\n",
        "clf_mlp = MLPClassifier(max_iter=1500)\n",
        "\n",
        "# Definisikan grid hyperparameter\n",
        "param_grid1 = {\n",
        "    'hidden_layer_sizes': [(1,), (10,), (20,), (30,)],\n",
        "    'activation': ['tanh', 'relu'],\n",
        "    'solver': ['lbfgs', 'adam', 'sgd']\n",
        "}\n",
        "\n",
        "# Inisialisasi GridSearchCV\n",
        "gs1 = GridSearchCV(\n",
        "    estimator=clf_mlp,\n",
        "    param_grid=param_grid1,\n",
        "    cv=5,\n",
        "    n_jobs=-1,\n",
        "    scoring='accuracy'\n",
        ")\n",
        "\n",
        "# Latih klasifikator menggunakan GridSearchCV\n",
        "clf_mlp_grid = gs1.fit(X_train, y_train)\n",
        "\n",
        "# Lakukan prediksi pada data uji\n",
        "y_pred = clf_mlp_grid.predict(X_test)\n",
        "\n",
        "# Cetak parameter terbaik yang ditemukan oleh GridSearchCV\n",
        "print(\"Parameter terbaik:\", clf_mlp_grid.best_params_)\n",
        "\n",
        "# Hitung dan cetak akurasi pada data uji\n",
        "test_accuracy = accuracy_score(y_test, y_pred)\n",
        "print(\"Skor akurasi data uji dari MLP Classifier adalah\", test_accuracy)\n"
      ]
    },
    {
      "cell_type": "markdown",
      "metadata": {
        "id": "FF-BCCoxlFt6"
      },
      "source": [
        "### Model Gradient Boosting"
      ]
    },
    {
      "cell_type": "code",
      "execution_count": 52,
      "metadata": {
        "colab": {
          "base_uri": "https://localhost:8080/"
        },
        "id": "raVdfwMdrfxx",
        "outputId": "09f206c3-e386-4a3e-c25c-94a0ac381d99"
      },
      "outputs": [
        {
          "name": "stdout",
          "output_type": "stream",
          "text": [
            "Parameter terbaik: {'learning_rate': 0.01, 'max_depth': 5, 'n_estimators': 200}\n",
            "Skor akurasi data uji dari Gradient Boosting Classifier adalah 0.8809523809523809\n"
          ]
        }
      ],
      "source": [
        "# Inisialisasi klasifikator Gradient Boosting\n",
        "clf_gb = GradientBoostingClassifier()\n",
        "\n",
        "# Definisikan grid hyperparameter\n",
        "param_grid1 = {\n",
        "    'learning_rate': [0.01, 0.1, 0.2],\n",
        "    'n_estimators': [100, 200, 300],\n",
        "    'max_depth': [3, 4, 5],\n",
        "}\n",
        "\n",
        "# Inisialisasi GridSearchCV\n",
        "gs1 = GridSearchCV(\n",
        "    estimator=clf_gb,\n",
        "    param_grid=param_grid1,\n",
        "    cv=5,\n",
        "    scoring='accuracy'\n",
        ")\n",
        "\n",
        "# Latih klasifikator menggunakan GridSearchCV\n",
        "clf_gb_grid = gs1.fit(X_train, y_train)\n",
        "\n",
        "# Lakukan prediksi pada data uji\n",
        "y_pred = clf_gb_grid.predict(X_test)\n",
        "\n",
        "# Cetak parameter terbaik yang ditemukan oleh GridSearchCV\n",
        "print(\"Parameter terbaik:\", clf_gb_grid.best_params_)\n",
        "\n",
        "# Hitung dan cetak akurasi pada data uji\n",
        "test_accuracy = accuracy_score(y_test, y_pred)\n",
        "print(\"Skor akurasi data uji dari Gradient Boosting Classifier adalah\", test_accuracy)\n"
      ]
    },
    {
      "cell_type": "markdown",
      "metadata": {
        "id": "E-URhq5I17eq"
      },
      "source": [
        "## Evaluation"
      ]
    },
    {
      "cell_type": "markdown",
      "metadata": {
        "id": "RvGv1kjGMm-Q"
      },
      "source": [
        "#### Logistic Regression"
      ]
    },
    {
      "cell_type": "code",
      "execution_count": 53,
      "metadata": {
        "colab": {
          "base_uri": "https://localhost:8080/"
        },
        "id": "gGpS04Lj17er",
        "outputId": "7e37b7b6-fa18-47be-f472-da3aa27c74cd"
      },
      "outputs": [
        {
          "name": "stdout",
          "output_type": "stream",
          "text": [
            "Confusion Matrix of Logistric Regression:\n",
            "[[258   4]\n",
            " [ 31   1]]\n"
          ]
        }
      ],
      "source": [
        "# Menghitung confusion matrix dari hasil prediksi dan label sebenarnya\n",
        "conf_matrix_lr = confusion_matrix(y_test, y_pred)\n",
        "\n",
        "# Menampilkan confusion matrix untuk model Logistic Regression\n",
        "print(\"Confusion Matrix of Logistric Regression:\")\n",
        "print(conf_matrix_lr)"
      ]
    },
    {
      "cell_type": "code",
      "execution_count": 54,
      "metadata": {
        "colab": {
          "base_uri": "https://localhost:8080/",
          "height": 410
        },
        "id": "mn8Ju9qRNu7Q",
        "outputId": "e93b8284-dbdb-47e3-b504-a2eb8a56a46e"
      },
      "outputs": [
        {
          "data": {
            "image/png": "[encoded data removed]",
            "text/plain": [
              "<Figure size 600x400 with 2 Axes>"
            ]
          },
          "metadata": {},
          "output_type": "display_data"
        }
      ],
      "source": [
        "# Membuat canvas berukuran 6x4 inci untuk visualisasi\n",
        "plt.figure(figsize=(6, 4))\n",
        "\n",
        "# Menampilkan heatmap dari confusion matrix dengan anotasi dan palet warna RdYlGn\n",
        "sns.heatmap(conf_matrix_lr, annot=True, cmap='RdYlGn', fmt='g',\n",
        "            xticklabels=['Positif', 'Negatif'],\n",
        "            yticklabels=['Positif', 'Negatif'])\n",
        "\n",
        "# Menambahkan label untuk sumbu X dan Y\n",
        "plt.xlabel('Label Prediksi')\n",
        "plt.ylabel('Label Aktual')\n",
        "\n",
        "# Menambahkan judul pada visualisasi\n",
        "plt.title('Visualisasi Confusion Matrix untuk Logistic Regression')\n",
        "\n",
        "# Menampilkan plot ke layar\n",
        "plt.show()\n"
      ]
    },
    {
      "cell_type": "code",
      "execution_count": 55,
      "metadata": {
        "colab": {
          "base_uri": "https://localhost:8080/"
        },
        "id": "ROd_S7VuOJek",
        "outputId": "33594b13-4d00-4402-be05-f56277c61357"
      },
      "outputs": [
        {
          "name": "stdout",
          "output_type": "stream",
          "text": [
            "Laporan Klasifikasi untuk Logistic Regression:\n",
            "              precision    recall  f1-score   support\n",
            "\n",
            "           0       0.89      0.98      0.94       262\n",
            "           1       0.20      0.03      0.05        32\n",
            "\n",
            "    accuracy                           0.88       294\n",
            "   macro avg       0.55      0.51      0.50       294\n",
            "weighted avg       0.82      0.88      0.84       294\n",
            "\n"
          ]
        }
      ],
      "source": [
        "# Menampilkan laporan klasifikasi untuk model Logistic Regression\n",
        "print(\"Laporan Klasifikasi untuk Logistic Regression:\")\n",
        "print(classification_report(y_test, y_pred))"
      ]
    },
    {
      "cell_type": "markdown",
      "metadata": {
        "id": "qg5uJKw5WqPJ"
      },
      "source": [
        "#### K-Nearest Neighbors (KNN)"
      ]
    },
    {
      "cell_type": "code",
      "execution_count": 56,
      "metadata": {
        "colab": {
          "base_uri": "https://localhost:8080/"
        },
        "id": "O6LGg7WzWwpE",
        "outputId": "83bfa812-32b2-4896-e906-1cdf41e98eb4"
      },
      "outputs": [
        {
          "name": "stdout",
          "output_type": "stream",
          "text": [
            "Confusion Matrix of K-Nearest Neighbors:\n",
            "[[258   4]\n",
            " [ 31   1]]\n"
          ]
        }
      ],
      "source": [
        "# Menghitung confusion matrix dari hasil prediksi dan label sebenarnya untuk KNN\n",
        "conf_matrix_knn = confusion_matrix(y_test, y_pred)\n",
        "\n",
        "# Menampilkan confusion matrix untuk model K-Nearest Neighbors\n",
        "print(\"Confusion Matrix of K-Nearest Neighbors:\")\n",
        "print(conf_matrix_knn)"
      ]
    },
    {
      "cell_type": "code",
      "execution_count": 57,
      "metadata": {},
      "outputs": [
        {
          "data": {
            "image/png": "[encoded data removed]",
            "text/plain": [
              "<Figure size 600x400 with 2 Axes>"
            ]
          },
          "metadata": {},
          "output_type": "display_data"
        }
      ],
      "source": [
        "# Menyiapkan area gambar berukuran 6x4 inci\n",
        "plt.figure(figsize=(6, 4))\n",
        "\n",
        "# Menampilkan heatmap dari matriks kebingungan KNN dengan anotasi dan palet warna 'RdYlGn'\n",
        "sns.heatmap(conf_matrix_knn, annot=True, cmap='RdYlGn', fmt='g',\n",
        "            xticklabels=['Positif', 'Negatif'],\n",
        "            yticklabels=['Positif', 'Negatif'])\n",
        "\n",
        "# Memberikan label pada sumbu X dan Y\n",
        "plt.xlabel('Label Prediksi')\n",
        "plt.ylabel('Label Sebenarnya')\n",
        "\n",
        "# Menambahkan judul pada visualisasi heatmap\n",
        "plt.title('Visualisasi Confusion Matrix - K Nearest Neighbors')\n",
        "\n",
        "# Menampilkan hasil plot ke layar\n",
        "plt.show()"
      ]
    },
    {
      "cell_type": "code",
      "execution_count": 58,
      "metadata": {
        "colab": {
          "base_uri": "https://localhost:8080/"
        },
        "id": "TJUvZIdTXkA0",
        "outputId": "ce7a6a9a-c44b-4076-c153-c5e0e9dabed6"
      },
      "outputs": [
        {
          "name": "stdout",
          "output_type": "stream",
          "text": [
            "Laporan Klasifikasi dari Model K-Nearest Neighbors:\n",
            "              precision    recall  f1-score   support\n",
            "\n",
            "           0       0.89      0.98      0.94       262\n",
            "           1       0.20      0.03      0.05        32\n",
            "\n",
            "    accuracy                           0.88       294\n",
            "   macro avg       0.55      0.51      0.50       294\n",
            "weighted avg       0.82      0.88      0.84       294\n",
            "\n"
          ]
        }
      ],
      "source": [
        "# Menampilkan laporan performa klasifikasi untuk model K-Nearest Neighbors\n",
        "print(\"Laporan Klasifikasi dari Model K-Nearest Neighbors:\")\n",
        "print(classification_report(y_test, y_pred))"
      ]
    },
    {
      "cell_type": "markdown",
      "metadata": {
        "id": "iQlJAuPiX4LO"
      },
      "source": [
        "#### Naive Bayes"
      ]
    },
    {
      "cell_type": "code",
      "execution_count": 59,
      "metadata": {
        "colab": {
          "base_uri": "https://localhost:8080/"
        },
        "id": "I0Nwg_FgZ1Ft",
        "outputId": "e636b706-9098-48d6-a64e-7927b4f4d31c"
      },
      "outputs": [
        {
          "name": "stdout",
          "output_type": "stream",
          "text": [
            "Confusion Matrix of Naive Bayes:\n",
            "[[258   4]\n",
            " [ 31   1]]\n"
          ]
        }
      ],
      "source": [
        "# Menghitung confusion matrix dari hasil prediksi dan label sebenarnya untuk Naive Bayes\n",
        "conf_matrix_nb = confusion_matrix(y_test, y_pred)\n",
        "\n",
        "# Menampilkan confusion matrix untuk model Naive Bayes\n",
        "print(\"Confusion Matrix of Naive Bayes:\")\n",
        "print(conf_matrix_nb)"
      ]
    },
    {
      "cell_type": "code",
      "execution_count": 60,
      "metadata": {
        "colab": {
          "base_uri": "https://localhost:8080/",
          "height": 410
        },
        "id": "bztFvxLCabYi",
        "outputId": "30689d72-9fef-46f9-c265-a4fa19cdfc45"
      },
      "outputs": [
        {
          "data": {
            "image/png": "[encoded data removed]",
            "text/plain": [
              "<Figure size 600x400 with 2 Axes>"
            ]
          },
          "metadata": {},
          "output_type": "display_data"
        }
      ],
      "source": [
        "# Menentukan ukuran figure untuk visualisasi\n",
        "plt.figure(figsize=(6, 4))\n",
        "\n",
        "# Membuat heatmap dari confusion matrix Naive Bayes dengan anotasi nilai dan pengaturan warna\n",
        "sns.heatmap(conf_matrix_nb, annot=True, cmap='RdYlGn', fmt='g',\n",
        "            xticklabels=['Positive', 'Negative'],  # Label untuk sumbu X\n",
        "            yticklabels=['Positive', 'Negative'])  # Label untuk sumbu Y\n",
        "\n",
        "# Menambahkan label untuk sumbu X dan Y\n",
        "plt.xlabel('Predicted labels')\n",
        "plt.ylabel('Actual labels')\n",
        "\n",
        "# Menambahkan judul pada plot\n",
        "plt.title('Confusion Matrix of Naive Bayes Classifier')\n",
        "\n",
        "# Menampilkan heatmap\n",
        "plt.show()"
      ]
    },
    {
      "cell_type": "code",
      "execution_count": 61,
      "metadata": {
        "colab": {
          "base_uri": "https://localhost:8080/"
        },
        "id": "FYeNwdaca49e",
        "outputId": "10683a2f-c2ae-484a-a8cc-aa4c46ac2e41"
      },
      "outputs": [
        {
          "name": "stdout",
          "output_type": "stream",
          "text": [
            "The Classification Report of Naive Bayes Classifier\n",
            "              precision    recall  f1-score   support\n",
            "\n",
            "           0       0.89      0.98      0.94       262\n",
            "           1       0.20      0.03      0.05        32\n",
            "\n",
            "    accuracy                           0.88       294\n",
            "   macro avg       0.55      0.51      0.50       294\n",
            "weighted avg       0.82      0.88      0.84       294\n",
            "\n"
          ]
        }
      ],
      "source": [
        "# Menampilkan informasi bahwa hasil classification report untuk model Naive Bayes akan ditampilkan\n",
        "print(\"The Classification Report of Naive Bayes Classifier\")\n",
        "\n",
        "# Menampilkan classification report yang berisi precision, recall, f1-score, dan support\n",
        "print(classification_report(y_test, y_pred))"
      ]
    },
    {
      "cell_type": "markdown",
      "metadata": {
        "id": "6JnjN6HxX7J0"
      },
      "source": [
        "#### SVM Classifier"
      ]
    },
    {
      "cell_type": "code",
      "execution_count": 62,
      "metadata": {
        "colab": {
          "base_uri": "https://localhost:8080/"
        },
        "id": "ch-z6zRjdTim",
        "outputId": "f49df6db-9e6e-49ec-c52b-d059c97e2f50"
      },
      "outputs": [
        {
          "name": "stdout",
          "output_type": "stream",
          "text": [
            "Confusion Matrix of Support Vector Machine:\n",
            "[[258   4]\n",
            " [ 31   1]]\n"
          ]
        }
      ],
      "source": [
        "# Menghitung confusion matrix dari hasil prediksi dan label sebenarnya untuk Support Vector Machine\n",
        "conf_matrix_svm = confusion_matrix(y_test, y_pred)\n",
        "\n",
        "# Menampilkan confusion matrix untuk model Support Vector Machine\n",
        "print(\"Confusion Matrix of Support Vector Machine:\")\n",
        "print(conf_matrix_svm)\n"
      ]
    },
    {
      "cell_type": "code",
      "execution_count": 63,
      "metadata": {
        "colab": {
          "base_uri": "https://localhost:8080/",
          "height": 410
        },
        "id": "qRPHUlfacMdY",
        "outputId": "d3a3b1eb-79c8-4a4a-af37-7ac79aff9896"
      },
      "outputs": [
        {
          "data": {
            "image/png": "[encoded data removed]",
            "text/plain": [
              "<Figure size 600x400 with 2 Axes>"
            ]
          },
          "metadata": {},
          "output_type": "display_data"
        }
      ],
      "source": [
        "# Menentukan ukuran figure untuk visualisasi\n",
        "plt.figure(figsize=(6, 4))\n",
        "\n",
        "# Membuat heatmap dari confusion matrix SVM dengan anotasi nilai dan pengaturan warna\n",
        "sns.heatmap(conf_matrix_svm, annot=True, cmap='RdYlGn', fmt='g',\n",
        "            xticklabels=['Positive', 'Negative'],  # Label untuk sumbu X\n",
        "            yticklabels=['Positive', 'Negative'])  # Label untuk sumbu Y\n",
        "\n",
        "# Menambahkan label untuk sumbu X dan Y\n",
        "plt.xlabel('Predicted labels')\n",
        "plt.ylabel('Actual labels')\n",
        "\n",
        "# Menambahkan judul pada plot\n",
        "plt.title('Confusion Matrix of Support Vector Machine Classifier')\n",
        "\n",
        "# Menampilkan heatmap\n",
        "plt.show()\n"
      ]
    },
    {
      "cell_type": "code",
      "execution_count": 64,
      "metadata": {
        "colab": {
          "base_uri": "https://localhost:8080/"
        },
        "id": "hKKTBiA3dts4",
        "outputId": "d230dd7c-5fe6-4ce4-8d1c-a9d41416dda7"
      },
      "outputs": [
        {
          "name": "stdout",
          "output_type": "stream",
          "text": [
            "The Classification Report of Support Vector Machine Classifier\n",
            "              precision    recall  f1-score   support\n",
            "\n",
            "           0       0.89      0.98      0.94       262\n",
            "           1       0.20      0.03      0.05        32\n",
            "\n",
            "    accuracy                           0.88       294\n",
            "   macro avg       0.55      0.51      0.50       294\n",
            "weighted avg       0.82      0.88      0.84       294\n",
            "\n"
          ]
        }
      ],
      "source": [
        "print(\"The Classification Report of Support Vector Machine Classifier\")\n",
        "print(classification_report(y_test, y_pred, zero_division=1))"
      ]
    },
    {
      "cell_type": "markdown",
      "metadata": {
        "id": "HFvlnjaFX7dC"
      },
      "source": [
        "#### Random Forest"
      ]
    },
    {
      "cell_type": "code",
      "execution_count": 65,
      "metadata": {
        "colab": {
          "base_uri": "https://localhost:8080/"
        },
        "id": "cl9xuCrBd4xY",
        "outputId": "1f8e85bf-deb7-4d35-bff1-3fcb56724031"
      },
      "outputs": [
        {
          "name": "stdout",
          "output_type": "stream",
          "text": [
            "Confusion Matrix of Random Forest:\n",
            "[[258   4]\n",
            " [ 31   1]]\n"
          ]
        }
      ],
      "source": [
        "# Menghitung confusion matrix dari hasil prediksi dan label sebenarnya untuk Random Forest\n",
        "conf_matrix_rf = confusion_matrix(y_test, y_pred)\n",
        "\n",
        "# Menampilkan confusion matrix untuk model Random Forest\n",
        "print(\"Confusion Matrix of Random Forest:\")\n",
        "print(conf_matrix_rf)"
      ]
    },
    {
      "cell_type": "code",
      "execution_count": 66,
      "metadata": {
        "colab": {
          "base_uri": "https://localhost:8080/",
          "height": 410
        },
        "id": "V-dplDz4d501",
        "outputId": "910bb06c-ae86-4031-f4b2-f43605bd6889"
      },
      "outputs": [
        {
          "data": {
            "image/png": "[encoded data removed]",
            "text/plain": [
              "<Figure size 600x400 with 2 Axes>"
            ]
          },
          "metadata": {},
          "output_type": "display_data"
        }
      ],
      "source": [
        "# Menentukan ukuran figure untuk visualisasi confusion matrix\n",
        "plt.figure(figsize=(6, 4))\n",
        "\n",
        "# Membuat heatmap dari confusion matrix Random Forest dengan anotasi nilai\n",
        "# cmap diubah ke 'YlGnBu' untuk skema warna biru-ke-hijau\n",
        "sns.heatmap(conf_matrix_rf, annot=True, cmap='RdYlGn', fmt='g',\n",
        "            xticklabels=['Positive', 'Negative'],  # Label sumbu X\n",
        "            yticklabels=['Positive', 'Negative'])  # Label sumbu Y\n",
        "\n",
        "# Menambahkan label pada sumbu X dan Y\n",
        "plt.xlabel('Predicted labels')   # Label prediksi dari model\n",
        "plt.ylabel('Actual labels')      # Label sebenarnya dari data\n",
        "\n",
        "# Menambahkan judul pada heatmap\n",
        "plt.title('Confusion Matrix of Random Forest Classifier')\n",
        "\n",
        "# Menampilkan heatmap ke layar\n",
        "plt.show()\n"
      ]
    },
    {
      "cell_type": "code",
      "execution_count": 67,
      "metadata": {
        "colab": {
          "base_uri": "https://localhost:8080/"
        },
        "id": "kzatGb6Fd6Gs",
        "outputId": "87de89c0-f248-4527-d662-676133f491d8"
      },
      "outputs": [
        {
          "name": "stdout",
          "output_type": "stream",
          "text": [
            "The Classification Report of Random Forest Classifier\n",
            "              precision    recall  f1-score   support\n",
            "\n",
            "           0       0.89      0.98      0.94       262\n",
            "           1       0.20      0.03      0.05        32\n",
            "\n",
            "    accuracy                           0.88       294\n",
            "   macro avg       0.55      0.51      0.50       294\n",
            "weighted avg       0.82      0.88      0.84       294\n",
            "\n"
          ]
        }
      ],
      "source": [
        "print(\"The Classification Report of Random Forest Classifier\")\n",
        "print(classification_report(y_test, y_pred))"
      ]
    },
    {
      "cell_type": "markdown",
      "metadata": {
        "id": "C8dN-JpCX7vI"
      },
      "source": [
        "#### Decision Tree"
      ]
    },
    {
      "cell_type": "code",
      "execution_count": 68,
      "metadata": {
        "colab": {
          "base_uri": "https://localhost:8080/"
        },
        "id": "SK94nc90d7Lf",
        "outputId": "7c69694b-570e-468f-f371-eb30dc07f007"
      },
      "outputs": [
        {
          "name": "stdout",
          "output_type": "stream",
          "text": [
            "Confusion Matrix of Decision Tree Classifier:\n",
            "[[258   4]\n",
            " [ 31   1]]\n"
          ]
        }
      ],
      "source": [
        "# Menghitung confusion matrix berdasarkan hasil prediksi dan label aktual untuk model Decision Tree\n",
        "conf_matrix_dt = confusion_matrix(y_test, y_pred)\n",
        "\n",
        "# Menampilkan confusion matrix untuk klasifikasi menggunakan Decision Tree\n",
        "print(\"Confusion Matrix of Decision Tree Classifier:\")\n",
        "print(conf_matrix_dt)"
      ]
    },
    {
      "cell_type": "code",
      "execution_count": 69,
      "metadata": {
        "colab": {
          "base_uri": "https://localhost:8080/",
          "height": 410
        },
        "id": "gvR92SJUd7dw",
        "outputId": "6d8aa2af-f8af-4805-9169-5cce5bcb0a20"
      },
      "outputs": [
        {
          "data": {
            "image/png": "[encoded data removed]",
            "text/plain": [
              "<Figure size 600x400 with 2 Axes>"
            ]
          },
          "metadata": {},
          "output_type": "display_data"
        }
      ],
      "source": [
        "# Menentukan ukuran figure untuk visualisasi heatmap\n",
        "plt.figure(figsize=(6, 4))\n",
        "\n",
        "# Membuat heatmap dari confusion matrix Decision Tree\n",
        "# - annot=True: menampilkan nilai di setiap sel\n",
        "# - cmap='Spectral': skema warna gradasi untuk membedakan intensitas\n",
        "# - fmt='g': menampilkan angka dalam format bilangan bulat\n",
        "# - xticklabels dan yticklabels memberi label pada sumbu X dan Y\n",
        "sns.heatmap(conf_matrix_dt, annot=True, cmap='RdYlGn', fmt='g',\n",
        "            xticklabels=['Positive', 'Negative'],\n",
        "            yticklabels=['Positive', 'Negative'])\n",
        "\n",
        "# Menambahkan label pada sumbu X (hasil prediksi) dan Y (label aktual)\n",
        "plt.xlabel('Predicted labels')\n",
        "plt.ylabel('Actual labels')\n",
        "\n",
        "# Menambahkan judul pada plot heatmap\n",
        "plt.title('Confusion Matrix of Decision Tree Classifier')\n",
        "\n",
        "# Menampilkan heatmap di layar\n",
        "plt.show()\n"
      ]
    },
    {
      "cell_type": "code",
      "execution_count": 70,
      "metadata": {
        "colab": {
          "base_uri": "https://localhost:8080/"
        },
        "id": "wFoKzVH4d7zh",
        "outputId": "f56ea5a2-3200-4ade-c78a-55ddfc9d779c"
      },
      "outputs": [
        {
          "name": "stdout",
          "output_type": "stream",
          "text": [
            "The Classification Report of Decision Tree Classifier\n",
            "              precision    recall  f1-score   support\n",
            "\n",
            "           0       0.89      0.98      0.94       262\n",
            "           1       0.20      0.03      0.05        32\n",
            "\n",
            "    accuracy                           0.88       294\n",
            "   macro avg       0.55      0.51      0.50       294\n",
            "weighted avg       0.82      0.88      0.84       294\n",
            "\n"
          ]
        }
      ],
      "source": [
        "print(\"The Classification Report of Decision Tree Classifier\")\n",
        "print(classification_report(y_test, y_pred, zero_division=1))"
      ]
    },
    {
      "cell_type": "markdown",
      "metadata": {
        "id": "8owRW4KoX8N7"
      },
      "source": [
        "#### MLP Classifier"
      ]
    },
    {
      "cell_type": "code",
      "execution_count": 71,
      "metadata": {
        "colab": {
          "base_uri": "https://localhost:8080/"
        },
        "id": "7J7Awg9Vd8yJ",
        "outputId": "f99bc8c5-f814-43ee-802f-57bfc3ce332d"
      },
      "outputs": [
        {
          "name": "stdout",
          "output_type": "stream",
          "text": [
            "Confusion Matrix of MLP Classifier:\n",
            "[[258   4]\n",
            " [ 31   1]]\n"
          ]
        }
      ],
      "source": [
        "conf_matrix_mlp = confusion_matrix(y_test, y_pred)\n",
        "print(\"Confusion Matrix of MLP Classifier:\")\n",
        "print(conf_matrix_mlp)"
      ]
    },
    {
      "cell_type": "code",
      "execution_count": 72,
      "metadata": {
        "colab": {
          "base_uri": "https://localhost:8080/",
          "height": 410
        },
        "id": "eT8_EOnld9Cu",
        "outputId": "f9b0a86a-0826-42ac-b945-bbdbb426e3ca"
      },
      "outputs": [
        {
          "data": {
            "image/png": "[encoded data removed]",
            "text/plain": [
              "<Figure size 600x400 with 2 Axes>"
            ]
          },
          "metadata": {},
          "output_type": "display_data"
        }
      ],
      "source": [
        "plt.figure(figsize=(6, 4))\n",
        "sns.heatmap(conf_matrix_mlp, annot=True, cmap='RdYlGn', fmt='g',\n",
        "            xticklabels=['Positive', 'Negative'],\n",
        "            yticklabels=['Positive', 'Negative'])\n",
        "plt.xlabel('Predicted labels')\n",
        "plt.ylabel('Actual labels')\n",
        "plt.title('Confusion Matrix of MLP Classifier')\n",
        "plt.show()"
      ]
    },
    {
      "cell_type": "code",
      "execution_count": 73,
      "metadata": {
        "colab": {
          "base_uri": "https://localhost:8080/"
        },
        "id": "CqXD88Rwd9do",
        "outputId": "91a05aba-4a80-47c2-8b88-26519a5008ce"
      },
      "outputs": [
        {
          "name": "stdout",
          "output_type": "stream",
          "text": [
            "The Classification Report of MLP Classifier\n",
            "              precision    recall  f1-score   support\n",
            "\n",
            "           0       0.89      0.98      0.94       262\n",
            "           1       0.20      0.03      0.05        32\n",
            "\n",
            "    accuracy                           0.88       294\n",
            "   macro avg       0.55      0.51      0.50       294\n",
            "weighted avg       0.82      0.88      0.84       294\n",
            "\n"
          ]
        }
      ],
      "source": [
        "print(\"The Classification Report of MLP Classifier\")\n",
        "print(classification_report(y_test, y_pred, zero_division=1))"
      ]
    },
    {
      "cell_type": "markdown",
      "metadata": {
        "id": "a5JQSlaCX8TQ"
      },
      "source": [
        "#### Gradient Boosting"
      ]
    },
    {
      "cell_type": "code",
      "execution_count": 74,
      "metadata": {
        "colab": {
          "base_uri": "https://localhost:8080/"
        },
        "id": "bajcme4td_Nm",
        "outputId": "b15ab45c-a7da-4f5f-eb3a-3f317d70c7c6"
      },
      "outputs": [
        {
          "name": "stdout",
          "output_type": "stream",
          "text": [
            "Confusion Matrix of Gradient Boosting Classifier:\n",
            "[[258   4]\n",
            " [ 31   1]]\n"
          ]
        }
      ],
      "source": [
        "conf_matrix_gb = confusion_matrix(y_test, y_pred)\n",
        "print(\"Confusion Matrix of Gradient Boosting Classifier:\")\n",
        "print(conf_matrix_gb)"
      ]
    },
    {
      "cell_type": "code",
      "execution_count": 75,
      "metadata": {
        "colab": {
          "base_uri": "https://localhost:8080/",
          "height": 410
        },
        "id": "3ZpdZkIJd_2P",
        "outputId": "009e3d44-c8d7-4b5b-bc83-282b430e0cd4"
      },
      "outputs": [
        {
          "data": {
            "image/png": "[encoded data removed]",
            "text/plain": [
              "<Figure size 600x400 with 2 Axes>"
            ]
          },
          "metadata": {},
          "output_type": "display_data"
        }
      ],
      "source": [
        "plt.figure(figsize=(6, 4))\n",
        "sns.heatmap(conf_matrix_gb, annot=True, cmap='RdYlGn', fmt='g',\n",
        "            xticklabels=['Positive', 'Negative'],\n",
        "            yticklabels=['Positive', 'Negative'])\n",
        "plt.xlabel('Predicted labels')\n",
        "plt.ylabel('Actual labels')\n",
        "plt.title('Confusion Matrix of Gradient Boosting Classifier')\n",
        "plt.show()"
      ]
    },
    {
      "cell_type": "code",
      "execution_count": 76,
      "metadata": {
        "colab": {
          "base_uri": "https://localhost:8080/"
        },
        "id": "PNP4UMhFeAOO",
        "outputId": "d9762336-9fc5-454f-8353-7bceeffe457e"
      },
      "outputs": [
        {
          "name": "stdout",
          "output_type": "stream",
          "text": [
            "The Classification Report of Gradient Boosting Classifier\n",
            "              precision    recall  f1-score   support\n",
            "\n",
            "           0       0.89      0.98      0.94       262\n",
            "           1       0.20      0.03      0.05        32\n",
            "\n",
            "    accuracy                           0.88       294\n",
            "   macro avg       0.55      0.51      0.50       294\n",
            "weighted avg       0.82      0.88      0.84       294\n",
            "\n"
          ]
        }
      ],
      "source": [
        "print(\"The Classification Report of Gradient Boosting Classifier\")\n",
        "print(classification_report(y_test, y_pred))"
      ]
    },
    {
      "cell_type": "markdown",
      "metadata": {
        "id": "wg-tz-MoqUjw"
      },
      "source": [
        "## Deployment\n",
        "\n"
      ]
    },
    {
      "cell_type": "code",
      "execution_count": 77,
      "metadata": {
        "colab": {
          "base_uri": "https://localhost:8080/"
        },
        "id": "x08qiErwqnvN",
        "outputId": "176889bf-60bb-47d5-c1b9-d352b6406ca0"
      },
      "outputs": [
        {
          "data": {
            "text/plain": [
              "['logistic_regression_model.joblib']"
            ]
          },
          "execution_count": 77,
          "metadata": {},
          "output_type": "execute_result"
        }
      ],
      "source": [
        "# Save the model with joblib\n",
        "joblib.dump(clf_lr_grid, 'logistic_regression_model.joblib')"
      ]
    }
  ],
  "metadata": {
    "colab": {
      "provenance": []
    },
    "kernelspec": {
      "display_name": "hr_jjm",
      "language": "python",
      "name": "python3"
    },
    "language_info": {
      "codemirror_mode": {
        "name": "ipython",
        "version": 3
      },
      "file_extension": ".py",
      "mimetype": "text/x-python",
      "name": "python",
      "nbconvert_exporter": "python",
      "pygments_lexer": "ipython3",
      "version": "3.12.3"
    },
    "orig_nbformat": 4
  },
  "nbformat": 4,
  "nbformat_minor": 0
}
